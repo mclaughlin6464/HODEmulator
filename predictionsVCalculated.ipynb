{
 "cells": [
  {
   "cell_type": "markdown",
   "metadata": {},
   "source": [
    "Elisabeth produced some predictions for expected correlation functions from her HOD. I'm going to plot those against the results I've calculated via halotools."
   ]
  },
  {
   "cell_type": "code",
   "execution_count": 1,
   "metadata": {
    "collapsed": true
   },
   "outputs": [],
   "source": [
    "import numpy as np\n",
    "import matplotlib\n",
    "%matplotlib inline\n",
    "from matplotlib import pyplot as plt\n",
    "import seaborn as sns\n",
    "sns.set()\n",
    "from itertools import cycle\n",
    "from collections import defaultdict\n",
    "colors = cycle(sns.color_palette())"
   ]
  },
  {
   "cell_type": "code",
   "execution_count": 2,
   "metadata": {
    "collapsed": true
   },
   "outputs": [],
   "source": [
    "a = 1.0\n",
    "outputdir = '/u/ki/swmclau2/des/HODOutput/'\n",
    "\n",
    "sim = 'chinchilla1050'\n",
    "datadir = outputdir+'%s_step_tests/'%sim\n",
    "\n",
    "#rbins = np.logspace(-1, 1.25, 15)\n",
    "#rbin_centers = (rbins[1:]+rbins[:-1])/2"
   ]
  },
  {
   "cell_type": "raw",
   "metadata": {
    "collapsed": true
   },
   "source": [
    "data = {}\n",
    "#data['highMinMass'] = np.loadtxt(datadir+'xi_all_%.3f_highMinMass_400_2048.npy'%a)\n",
    "#data['stepFunc'] = np.loadtxt(datadir+'xi_all_%.3f_stepFunc_400_2048.npy'%a)\n",
    "data['default'] = np.loadtxt(datadir+'xi_all_%.3f_default_400_2048.npy'%a)\n",
    "#data['medMinMass'] = np.loadtxt(datadir+'xi_all_%.3f_medMinMass.npy'%a\n",
    "\n",
    "predictions = {}\n",
    "#predictions['highMinMass'] = np.loadtxt(datadir+'halo_model_highMinMassMMax.txt')\n",
    "#predictions['stepFunc'] = np.loadtxt(datadir+'halo_model_step_2.txt')\n",
    "#predictions['default'] = np.loadtxt(datadir+'halo_model_default.txt')\n",
    "predictions['default'] = np.loadtxt('/u/ki/swmclau2/des/HODOutput/test2')\n",
    "#predictions['medMinMass'] = np.loadtxt(datadir+'box000_Min12.5_z0.0')"
   ]
  },
  {
   "cell_type": "code",
   "execution_count": 5,
   "metadata": {
    "collapsed": false
   },
   "outputs": [
    {
     "name": "stdout",
     "output_type": "stream",
     "text": [
      "corr_1.000_default_mm_12.00.npy\n",
      "corr_1.000_default_mm_12.00_np_0.npy\n",
      "corr_1.000_default_mm_12.00_np_100.npy\n",
      "corr_1.000_default_mm_12.00_np_20.npy\n",
      "corr_1.000_default_mm_12.00_np_50.npy\n",
      "corr_1.000_default_mm_12.25.npy\n",
      "corr_1.000_default_mm_12.25_np_0.npy\n",
      "corr_1.000_default_mm_12.25_np_100.npy\n",
      "corr_1.000_default_mm_12.25_np_20.npy\n",
      "corr_1.000_default_mm_12.25_np_50.npy\n",
      "corr_1.000_default_mm_12.50.npy\n",
      "corr_1.000_default_mm_12.50_np_0.npy\n",
      "corr_1.000_default_mm_12.50_np_100.npy\n",
      "corr_1.000_default_mm_12.50_np_20.npy\n",
      "corr_1.000_default_mm_12.50_np_50.npy\n",
      "corr_1.000_default_mm_12.75.npy\n",
      "corr_1.000_default_mm_12.75_np_0.npy\n",
      "corr_1.000_default_mm_12.75_np_100.npy\n",
      "corr_1.000_default_mm_12.75_np_20.npy\n",
      "corr_1.000_default_mm_12.75_np_50.npy\n",
      "corr_1.000_default_mm_13.00.npy\n",
      "corr_1.000_default_mm_13.00_np_0.npy\n",
      "corr_1.000_default_mm_13.00_np_100.npy\n",
      "corr_1.000_default_mm_13.00_np_20.npy\n",
      "corr_1.000_default_mm_13.00_np_50.npy\n",
      "corr_1.000_default_mm_13.25.npy\n",
      "corr_1.000_default_mm_13.25_np_0.npy\n",
      "corr_1.000_default_mm_13.25_np_100.npy\n",
      "corr_1.000_default_mm_13.25_np_20.npy\n",
      "corr_1.000_default_mm_13.25_np_50.npy\n",
      "corr_1.000_default_mm_13.50.npy\n",
      "corr_1.000_default_mm_13.50_np_0.npy\n",
      "corr_1.000_default_mm_13.50_np_100.npy\n",
      "corr_1.000_default_mm_13.50_np_20.npy\n",
      "corr_1.000_default_mm_13.50_np_50.npy\n",
      "corr_1.000_default_mm_13.75.npy\n",
      "corr_1.000_default_mm_13.75_np_0.npy\n",
      "corr_1.000_default_mm_13.75_np_100.npy\n",
      "corr_1.000_default_mm_13.75_np_20.npy\n",
      "corr_1.000_default_mm_13.75_np_50.npy\n"
     ]
    }
   ],
   "source": [
    "%%bash \n",
    "ls /u/ki/swmclau2/des/HODOutput/chinchilla1050_step_tests/"
   ]
  },
  {
   "cell_type": "code",
   "execution_count": 3,
   "metadata": {
    "collapsed": false
   },
   "outputs": [
    {
     "ename": "IOError",
     "evalue": "[Errno 2] No such file or directory: '/u/ki/swmclau2/des/HODOutput/chinchilla1050_step_tests/corr_1.000_stepFunc_mm_12.00.npy'",
     "output_type": "error",
     "traceback": [
      "\u001b[1;31m---------------------------------------------------------------------------\u001b[0m",
      "\u001b[1;31mIOError\u001b[0m                                   Traceback (most recent call last)",
      "\u001b[1;32m<ipython-input-3-be7fe7b21f1c>\u001b[0m in \u001b[0;36m<module>\u001b[1;34m()\u001b[0m\n\u001b[0;32m      4\u001b[0m \u001b[1;32mfor\u001b[0m \u001b[0mmMin\u001b[0m \u001b[1;32min\u001b[0m \u001b[1;33m[\u001b[0m\u001b[1;36m12.0\u001b[0m\u001b[1;33m,\u001b[0m\u001b[1;36m12.25\u001b[0m\u001b[1;33m,\u001b[0m \u001b[1;36m12.50\u001b[0m\u001b[1;33m,\u001b[0m\u001b[1;36m12.75\u001b[0m\u001b[1;33m,\u001b[0m \u001b[1;36m13.0\u001b[0m\u001b[1;33m,\u001b[0m\u001b[1;36m13.25\u001b[0m\u001b[1;33m,\u001b[0m\u001b[1;36m13.5\u001b[0m\u001b[1;33m]\u001b[0m\u001b[1;33m:\u001b[0m\u001b[1;33m\u001b[0m\u001b[0m\n\u001b[0;32m      5\u001b[0m \u001b[1;31m#for mMin in [12.0, 12.50, 13.0, 13.5]:\u001b[0m\u001b[1;33m\u001b[0m\u001b[1;33m\u001b[0m\u001b[0m\n\u001b[1;32m----> 6\u001b[1;33m     \u001b[0mdata\u001b[0m\u001b[1;33m[\u001b[0m\u001b[0mmMin\u001b[0m\u001b[1;33m]\u001b[0m \u001b[1;33m=\u001b[0m \u001b[0mnp\u001b[0m\u001b[1;33m.\u001b[0m\u001b[0mloadtxt\u001b[0m\u001b[1;33m(\u001b[0m\u001b[0mdatadir\u001b[0m\u001b[1;33m+\u001b[0m\u001b[1;34m'corr_%.3f_stepFunc_mm_%.2f.npy'\u001b[0m\u001b[1;33m%\u001b[0m\u001b[1;33m(\u001b[0m\u001b[0ma\u001b[0m\u001b[1;33m,\u001b[0m\u001b[0mmMin\u001b[0m\u001b[1;33m)\u001b[0m \u001b[1;33m)\u001b[0m\u001b[1;33m\u001b[0m\u001b[0m\n\u001b[0m\u001b[0;32m      7\u001b[0m     \u001b[1;32mif\u001b[0m \u001b[0msim\u001b[0m \u001b[1;33m==\u001b[0m \u001b[1;34m'chinchilla'\u001b[0m\u001b[1;33m:\u001b[0m\u001b[1;33m\u001b[0m\u001b[0m\n\u001b[0;32m      8\u001b[0m         \u001b[1;31m#predictions[mMin] = np.loadtxt('/u/ki/swmclau2/des/HODOutput/xi_chinchilla/redm_Mmin%.2f'%(mMin) )\u001b[0m\u001b[1;33m\u001b[0m\u001b[1;33m\u001b[0m\u001b[0m\n",
      "\u001b[1;32m/u/ki/swmclau2/.conda/envs/hodemulator/lib/python2.7/site-packages/numpy/lib/npyio.pyc\u001b[0m in \u001b[0;36mloadtxt\u001b[1;34m(fname, dtype, comments, delimiter, converters, skiprows, usecols, unpack, ndmin)\u001b[0m\n\u001b[0;32m    801\u001b[0m                 \u001b[0mfh\u001b[0m \u001b[1;33m=\u001b[0m \u001b[0miter\u001b[0m\u001b[1;33m(\u001b[0m\u001b[0mbz2\u001b[0m\u001b[1;33m.\u001b[0m\u001b[0mBZ2File\u001b[0m\u001b[1;33m(\u001b[0m\u001b[0mfname\u001b[0m\u001b[1;33m)\u001b[0m\u001b[1;33m)\u001b[0m\u001b[1;33m\u001b[0m\u001b[0m\n\u001b[0;32m    802\u001b[0m             \u001b[1;32melif\u001b[0m \u001b[0msys\u001b[0m\u001b[1;33m.\u001b[0m\u001b[0mversion_info\u001b[0m\u001b[1;33m[\u001b[0m\u001b[1;36m0\u001b[0m\u001b[1;33m]\u001b[0m \u001b[1;33m==\u001b[0m \u001b[1;36m2\u001b[0m\u001b[1;33m:\u001b[0m\u001b[1;33m\u001b[0m\u001b[0m\n\u001b[1;32m--> 803\u001b[1;33m                 \u001b[0mfh\u001b[0m \u001b[1;33m=\u001b[0m \u001b[0miter\u001b[0m\u001b[1;33m(\u001b[0m\u001b[0mopen\u001b[0m\u001b[1;33m(\u001b[0m\u001b[0mfname\u001b[0m\u001b[1;33m,\u001b[0m \u001b[1;34m'U'\u001b[0m\u001b[1;33m)\u001b[0m\u001b[1;33m)\u001b[0m\u001b[1;33m\u001b[0m\u001b[0m\n\u001b[0m\u001b[0;32m    804\u001b[0m             \u001b[1;32melse\u001b[0m\u001b[1;33m:\u001b[0m\u001b[1;33m\u001b[0m\u001b[0m\n\u001b[0;32m    805\u001b[0m                 \u001b[0mfh\u001b[0m \u001b[1;33m=\u001b[0m \u001b[0miter\u001b[0m\u001b[1;33m(\u001b[0m\u001b[0mopen\u001b[0m\u001b[1;33m(\u001b[0m\u001b[0mfname\u001b[0m\u001b[1;33m)\u001b[0m\u001b[1;33m)\u001b[0m\u001b[1;33m\u001b[0m\u001b[0m\n",
      "\u001b[1;31mIOError\u001b[0m: [Errno 2] No such file or directory: '/u/ki/swmclau2/des/HODOutput/chinchilla1050_step_tests/corr_1.000_stepFunc_mm_12.00.npy'"
     ]
    }
   ],
   "source": [
    "data = {}\n",
    "predictions = {}\n",
    "#for mMin in [12.0+i*0.25 for i in xrange(8)]:\n",
    "for mMin in [12.0,12.25, 12.50,12.75, 13.0,13.25,13.5]:\n",
    "#for mMin in [12.0, 12.50, 13.0, 13.5]:\n",
    "    data[mMin] = np.loadtxt(datadir+'corr_%.3f_stepFunc_mm_%.2f.npy'%(a,mMin) )\n",
    "    if sim == 'chinchilla':\n",
    "        #predictions[mMin] = np.loadtxt('/u/ki/swmclau2/des/HODOutput/xi_chinchilla/redm_Mmin%.2f'%(mMin) )\n",
    "        predictions[mMin] = np.loadtxt('/u/ki/swmclau2/des/HODOutput/xi_chinchilla/step_%.2f'%(mMin) )\n",
    "    elif sim == 'aardvark':\n",
    "        #predictions[mMin] = np.loadtxt('/u/ki/swmclau2/des/HODOutput/xi_aardvark/xi_redm%.1f'%(mMin) )\n",
    "        predictions[mMin] = np.loadtxt('/u/ki/swmclau2/des/HODOutput/xi_aardvark/xi_threshold%.1f'%(mMin) )\n",
    "    else:\n",
    "        predictions[mMin] = np.ones(data[mMin].T.shape)*-1"
   ]
  },
  {
   "cell_type": "raw",
   "metadata": {},
   "source": [
    "working_step = (rbin_centers, data['default'], predictions['default'])"
   ]
  },
  {
   "cell_type": "code",
   "execution_count": null,
   "metadata": {
    "collapsed": false
   },
   "outputs": [],
   "source": [
    "if data[12.5].shape[1] == 19:\n",
    "    rbins = np.logspace(-1, 1.7, 20)\n",
    "else:\n",
    "    rbins = np.logspace(-1, 1.25, 15)\n",
    "rbin_centers = (rbins[1:]+rbins[:-1])/2 #Here or in the loop?"
   ]
  },
  {
   "cell_type": "code",
   "execution_count": null,
   "metadata": {
    "collapsed": false
   },
   "outputs": [],
   "source": [
    "fig = plt.figure(figsize = (10,10))\n",
    "for mMin, color in zip(sorted(data.iterkeys()), colors):\n",
    "    #rbins = np.logspace(-1, 1.7, 20)\n",
    "    #rbin_centers = (rbins[1:]+rbins[:-1])/2\n",
    "\n",
    "    plt.plot(data[mMin][0,:], data[mMin][1,:], label = '%s default MinMass = %.2f'%(sim, mMin), color = color)\n",
    "    #plt.plot(data[mMin][0,:], data[mMin][2,:], color = color)\n",
    "    #plt.plot(data[mMin][0,:], data[mMin][3,:],ls = ':', color = color)\n",
    "\n",
    "    #plt.plot(rbin_centers, data[mMin], label = '%s RedMagic MinMass = %.2f'%(sim, mMin), color = color)\n",
    "    #plt.plot(predictions[mMin][:,0], predictions[mMin][:,1], ls = '--', color = color  )\n",
    "    #plt.plot(predictions[mMin][:,0], predictions[mMin][:,2], ls = '--', color = color  )\n",
    "\n",
    "    \n",
    "plt.title('Galaxy-Galaxy Correlations Halo Model v Calculated')\n",
    "plt.xlim(xmin = 0.1, xmax = 30)\n",
    "plt.ylim(ymin = 1e-2, ymax = 1e4)\n",
    "plt.loglog()\n",
    "plt.xticks(fontsize=20)\n",
    "plt.yticks(fontsize=20)\n",
    "#plt.xlabel(r'$r $  $\\rm{[Mpc]}$', fontsize=25)\n",
    "plt.ylabel(r'$\\xi_{\\rm gg}(r)$', fontsize=25)\n",
    "plt.legend(loc='best', fontsize=20)  \n",
    "\n",
    "plt.show()"
   ]
  },
  {
   "cell_type": "code",
   "execution_count": null,
   "metadata": {
    "collapsed": false,
    "scrolled": false
   },
   "outputs": [],
   "source": [
    "for label, color in zip(sorted(data.iterkeys()), colors):\n",
    "    fig = plt.figure(figsize = (10,10))\n",
    "\n",
    "    plt.subplot(211)\n",
    "    plt.plot(data[label][0,:], data[label][1,:] , label = '%s %s'%(sim, label), color = color)\n",
    "    plt.plot(predictions[label][:,0],predictions[label][:,1], ls = '--', color = color)\n",
    "    \n",
    "    plt.title('Galaxy-Galaxy Correlations Halo Model v Calculated')\n",
    "    plt.xlim(xmin = 0.1, xmax = 30)\n",
    "    plt.ylim(ymin = 1e-2, ymax = 1e4)\n",
    "    plt.loglog()\n",
    "    plt.xticks(fontsize=20)\n",
    "    plt.yticks(fontsize=20)\n",
    "    #plt.xlabel(r'$r $  $\\rm{[Mpc]}$', fontsize=25)\n",
    "    plt.ylabel(r'$\\xi_{\\rm gg}(r)$', fontsize=25)\n",
    "    plt.legend(loc='best', fontsize=20)\n",
    "    \n",
    "    plt.subplot(212)\n",
    "    plt.title('Calculation/Halo Model')\n",
    "    plt.plot(data[label][0,:]/2, data[label][1,:]/predictions[label][:,1], color = color)\n",
    "    \n",
    "    plt.xlim(xmin = 0.1, xmax = 30)\n",
    "    plt.ylim(ymin = 0, ymax = 2)\n",
    "    #plt.loglog()\n",
    "    plt.xscale('log')\n",
    "    plt.xticks(fontsize=20)\n",
    "    plt.yticks(fontsize=20)\n",
    "    plt.xlabel(r'$r $  $\\rm{[Mpc]}$', fontsize=25)    \n",
    "\n",
    "    plt.show()"
   ]
  },
  {
   "cell_type": "raw",
   "metadata": {
    "collapsed": false
   },
   "source": [
    "#Aardvark threshold\n",
    "ratio_prediction = {12.0: 0.70,\n",
    "12.50:  1.00,\n",
    "13.00:  1.57,\n",
    "13.50:  2.75}"
   ]
  },
  {
   "cell_type": "raw",
   "metadata": {
    "collapsed": true
   },
   "source": [
    "#Aardvark redM / 12.5\n",
    "ratio_prediction = {12.0: 0.60,\n",
    "12.50:  1.00,\n",
    "13.00:  1.58,\n",
    "13.50:  2.42}"
   ]
  },
  {
   "cell_type": "code",
   "execution_count": null,
   "metadata": {
    "collapsed": true
   },
   "outputs": [],
   "source": [
    "#Chinchilla threshold / 12.25\n",
    "ratio_prediction = {12.25:1.0,\n",
    "12.50:1.27, \n",
    "12.75: 1.58, \n",
    "13.00: 1.95, \n",
    "13.25: 2.39, \n",
    "13.50: 2.93, \n",
    "13.75: 3.61}"
   ]
  },
  {
   "cell_type": "code",
   "execution_count": null,
   "metadata": {
    "collapsed": false
   },
   "outputs": [],
   "source": [
    "print data.keys()"
   ]
  },
  {
   "cell_type": "code",
   "execution_count": null,
   "metadata": {
    "collapsed": false
   },
   "outputs": [],
   "source": [
    "colors = cycle(sns.color_palette())\n",
    "\n",
    "rbins = np.logspace(-1, 1.7, 20)\n",
    "rbin_centers = (rbins[1:]+rbins[:-1])/2\n",
    "\n",
    "fig = plt.figure(figsize = (10,10))\n",
    "#for vn, color in zip(version_names, colors):\n",
    "lowest_mass = 12.25#min(data.iterkeys())\n",
    "for mm, color in zip(sorted(data.iterkeys())[1:], colors):\n",
    "    #print '%.2f/12.25:\\t'%(mm), '%.2f'%np.mean(data[mm][6:]/data[12.25][6:])\n",
    "    plt.plot(data[mm][0,:], data[mm][1,:]/data[lowest_mass][1,:], label = '%.2f/%.2f'%(mm, lowest_mass), color = color)\n",
    "    #plt.plot(predictions[mm][:,0], predictions[mm][:,1]/predictions[lowest_mass][:,1], ls = ':', color = color)\n",
    "\n",
    "    plt.plot(data[mm][0,:], np.ones(predictions[mm][:,0].shape)*ratio_prediction[mm], ls = '--',color = color)\n",
    "    \n",
    "plt.title('Correlation Function Ratios for %s'%sim)\n",
    "plt.xlim(xmin = 1, xmax = 50)\n",
    "\n",
    "plt.ylim(ymin = 0.5, ymax = 6)\n",
    "#plt.loglog()\n",
    "plt.xscale('log')\n",
    "plt.xticks(fontsize=20)\n",
    "plt.yticks(fontsize=20)\n",
    "plt.xlabel(r'$r $  $\\rm{[Mpc]}$', fontsize=25)\n",
    "plt.legend(loc='best', fontsize=20)\n",
    "\n",
    "plt.show()"
   ]
  },
  {
   "cell_type": "code",
   "execution_count": null,
   "metadata": {
    "collapsed": false
   },
   "outputs": [],
   "source": [
    "test = np.loadtxt('/u/ki/swmclau2/Git/Manticorr/xi_ch400_test.npy' , delimiter = ',')\n",
    "low_xi = np.loadtxt('/u/ki/swmclau2/Git/Manticorr/xi_ch400_lowRes.npy' , delimiter = ',')\n",
    "med_xi = np.loadtxt('/u/ki/swmclau2/Git/Manticorr/xi_ch400_medRes.npy' , delimiter = ',')\n",
    "fig = plt.figure(figsize = (10,10))\n",
    "centers = (low_xi[:,0]+low_xi[:,1])/2\n",
    "plt.plot(centers, med_xi[:,3], label = 'Low Resolution')\n",
    "plt.plot(centers, test, label = 'Test')\n",
    "plt.title('Matter Correlation Function')\n",
    "plt.xlim(xmin = 0.1, xmax = 60)\n",
    "plt.ylim(ymin = 1e-1, ymax = 1e3)\n",
    "plt.loglog()\n",
    "plt.xticks(fontsize=20)\n",
    "plt.yticks(fontsize=20)\n",
    "plt.xlabel(r'$r $  $\\rm{[Mpc]}$', fontsize=25)\n",
    "plt.ylabel(r'$\\xi_{\\rm mm}(r)$', fontsize=25)\n",
    "\n",
    "#plt.legend()\n",
    "\n",
    "plt.show()"
   ]
  },
  {
   "cell_type": "code",
   "execution_count": null,
   "metadata": {
    "collapsed": false
   },
   "outputs": [],
   "source": [
    "print (rbin_centers - centers)/rbin_centers"
   ]
  },
  {
   "cell_type": "code",
   "execution_count": null,
   "metadata": {
    "collapsed": false
   },
   "outputs": [],
   "source": [
    "fig = plt.figure(figsize = (10,10))\n",
    "\n",
    "plt.plot(centers, med_xi[:,3]-test)\n",
    "plt.title('Matter Correlation Function')\n",
    "plt.xlim(xmin = 0.1, xmax = 60)\n",
    "plt.ylim(ymin = 1e-1, ymax = 1e3)\n",
    "plt.loglog()\n",
    "plt.xticks(fontsize=20)\n",
    "plt.yticks(fontsize=20)\n",
    "plt.xlabel(r'$r $  $\\rm{[Mpc]}$', fontsize=25)\n",
    "plt.ylabel(r'$\\xi_{\\rm mm}(r)$', fontsize=25)\n",
    "\n",
    "#plt.legend()\n",
    "\n",
    "plt.show()"
   ]
  },
  {
   "cell_type": "code",
   "execution_count": null,
   "metadata": {
    "collapsed": false
   },
   "outputs": [],
   "source": [
    "fig = plt.figure(figsize = (10,10))\n",
    "\n",
    "mMin = 12.5\n",
    "plt.subplot(211)\n",
    "\n",
    "plt.plot(data[mMin][0,:],data[mMin][1,:], label = 'RedMagic %.1f'%mMin)\n",
    "#plt.plot(predictions[mMin][:, 0],predictions[mMin][:,1], label = 'RedMagic mMin = %.1f'%mMin)\n",
    "plt.plot(centers,  med_xi[:,3], label = 'Matter')\n",
    "\n",
    "plt.title('Chinchilla Autocorrelations', fontsize =20)\n",
    "plt.xlim(xmin = 0.1, xmax = 60)\n",
    "plt.ylim(ymin = 1e-2, ymax = 1e4)\n",
    "plt.loglog()\n",
    "plt.xticks(fontsize=20)\n",
    "plt.yticks(fontsize=20)\n",
    "#plt.xlabel(r'$r $  $\\rm{[Mpc]}$', fontsize=25)\n",
    "plt.ylabel(r'$\\xi(r)$', fontsize=25)\n",
    "plt.legend(loc='best', fontsize=20)\n",
    "\n",
    "plt.subplot(212)\n",
    "plt.title(r'Galaxy Bias $\\sqrt{\\xi_{\\rm gg}/\\xi_{\\rm mm}}$', fontsize = 20)\n",
    "plt.plot(data[mMin][0,:], (np.sqrt(data[mMin][1,:]/test)) )\n",
    "\n",
    "plt.xlim(xmin = 0.1, xmax = 60)\n",
    "plt.ylim(ymin = 0, ymax = 5)\n",
    "#plt.loglog()\n",
    "plt.xscale('log')\n",
    "plt.xticks(fontsize=20)\n",
    "plt.yticks(fontsize=20)\n",
    "plt.xlabel(r'$r $  $\\rm{[Mpc]}$', fontsize=25)    \n",
    "\n",
    "plt.show()"
   ]
  },
  {
   "cell_type": "code",
   "execution_count": null,
   "metadata": {
    "collapsed": false
   },
   "outputs": [],
   "source": [
    "colors = cycle(sns.color_palette())\n",
    "fig = plt.figure(figsize = (10,10))\n",
    "for mm, color in zip(sorted(galaxy.iterkeys()), colors):\n",
    "    plt.plot(data[mm][0,:], np.sqrt(data[mm][1,:]/med_xi[:,3]), label = '%.2f'%(mm), color = color)\n",
    "    \n",
    "plt.title(r'Halo Bias $\\sqrt{\\xi_{\\rm hh}/\\xi_{\\rm mm}}$', fontsize = 20)\n",
    "plt.xlim(xmin = 1, xmax = 20)\n",
    "\n",
    "plt.ylim(ymin = 0.5, ymax = 3)\n",
    "#plt.loglog()\n",
    "plt.xscale('log')\n",
    "plt.xticks(fontsize=20)\n",
    "plt.yticks(fontsize=20)\n",
    "plt.xlabel(r'$r $  $\\rm{[Mpc]}$', fontsize=25)\n",
    "plt.legend(loc='best', fontsize=20)\n",
    "\n",
    "plt.show()"
   ]
  },
  {
   "cell_type": "code",
   "execution_count": null,
   "metadata": {
    "collapsed": false
   },
   "outputs": [],
   "source": [
    "x = np.stack(centers, med_xi[:,3])\n",
    "x"
   ]
  },
  {
   "cell_type": "code",
   "execution_count": null,
   "metadata": {
    "collapsed": true
   },
   "outputs": [],
   "source": []
  }
 ],
 "metadata": {
  "kernelspec": {
   "display_name": "Python 2",
   "language": "python",
   "name": "python2"
  },
  "language_info": {
   "codemirror_mode": {
    "name": "ipython",
    "version": 2
   },
   "file_extension": ".py",
   "mimetype": "text/x-python",
   "name": "python",
   "nbconvert_exporter": "python",
   "pygments_lexer": "ipython2",
   "version": "2.7.11"
  }
 },
 "nbformat": 4,
 "nbformat_minor": 0
}
