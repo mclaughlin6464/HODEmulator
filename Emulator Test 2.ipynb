{
 "cells": [
  {
   "cell_type": "markdown",
   "metadata": {},
   "source": [
    "While I'm waiting for a full parmaeter cube to be generated, I'm testing the emulation framework I've made so far. /"
   ]
  },
  {
   "cell_type": "code",
   "execution_count": 14,
   "metadata": {
    "collapsed": false
   },
   "outputs": [],
   "source": [
    "import numpy as np\n",
    "from src.emulator import build_emulator, emulate, emulate_wrt_r\n",
    "from src.allCorrFunc import RBINS\n",
    "from src.doBatchCalls import BOUNDS, N_PER_DIM"
   ]
  },
  {
   "cell_type": "code",
   "execution_count": 15,
   "metadata": {
    "collapsed": false
   },
   "outputs": [
    {
     "name": "stdout",
     "output_type": "stream",
     "text": [
      "logMmin\n",
      "[ 11.7         11.96666667  12.23333333  12.5       ]\n",
      "******************************\n",
      "f_c\n",
      "[ 0.1         0.23333333  0.36666667  0.5       ]\n",
      "******************************\n",
      "logM0\n",
      "[ 10.  11.  12.  13.]\n",
      "******************************\n",
      "sigma_logM\n",
      "[ 0.2         0.36666667  0.53333333  0.7       ]\n",
      "******************************\n",
      "logM1\n",
      "[ 13.1  13.5  13.9  14.3]\n",
      "******************************\n",
      "alpha\n",
      "[ 0.75        0.91666667  1.08333333  1.25      ]\n",
      "******************************\n"
     ]
    }
   ],
   "source": [
    "for key, val in BOUNDS.iteritems():\n",
    "    print key\n",
    "    print np.linspace(val[0], val[1], num=N_PER_DIM)\n",
    "    print '*'*30"
   ]
  },
  {
   "cell_type": "code",
   "execution_count": 16,
   "metadata": {
    "collapsed": false
   },
   "outputs": [],
   "source": [
    "y_param = 'logMmin'\n",
    "#y_param = 'f_c'\n",
    "#y_param = 'logM0'\n",
    "#y_param = 'logM1'\n",
    "#y_param = 'sigma_logM'\n",
    "#y_param = 'alpha'\n",
    "\n",
    "#param_2 = 'logMmin'\n",
    "#param_2 = 'sigma_logM'\n",
    "param_2 = 'f_c'\n",
    "\n",
    "param_3 = 'sigma_logM'\n",
    "\n",
    "#param_4 = 'alpha'\n",
    "\n",
    "#param_5= 'logM1'\n",
    "\n",
    "emulation_point = [('f_c', 0.233), \n",
    "                   ('logM0', 12.0), ('sigma_logM', 0.533), ('alpha', 1.083),\n",
    "                   ('logM1', 13.5), ('logMmin', 12.233)]\n",
    "\n",
    "fiducial_point = {'logM0': 12.20, 'logM1': 13.7, 'alpha': 1.02, \n",
    "                  'logMmin': 12.1, 'f_c': 0.19, 'sigma_logM': 0.46}\n",
    "fixed_params = {key:val for key, val in emulation_point}\n",
    "#em_params = {}\n",
    "em_params = {param_2:fixed_params[param_2], param_3:fixed_params[param_3],\n",
    "            param_4:fixed_params[param_4]}#, param_5:fixed_params[param_5]} #varying y_param, holding this fixed in the emulator now. \n",
    "del fixed_params[y_param]\n",
    "del fixed_params[param_2]\n",
    "del fixed_params[param_3]\n",
    "#del fixed_params[param_4]\n",
    "#del fixed_params[param_5]"
   ]
  },
  {
   "cell_type": "code",
   "execution_count": 17,
   "metadata": {
    "collapsed": false,
    "scrolled": true
   },
   "outputs": [
    {
     "name": "stdout",
     "output_type": "stream",
     "text": [
      "64 Points used for training.\n",
      "GP Params:  [ 0.30783176  0.08759131  0.03091122  0.04489427  0.03159018]\n",
      "59.755 s\n"
     ]
    }
   ],
   "source": [
    "#%%timeit\n",
    "from time import time\n",
    "t0 = time()\n",
    "gp, log_xi, log_xi_cov = build_emulator(fixed_params)\n",
    "print '%.3f s'%(time()-t0)"
   ]
  },
  {
   "cell_type": "code",
   "execution_count": 18,
   "metadata": {
    "collapsed": false
   },
   "outputs": [
    {
     "name": "stdout",
     "output_type": "stream",
     "text": [
      "2.21719516101e-05\n",
      "0.0\n"
     ]
    }
   ],
   "source": [
    "from scipy.linalg import eigvals, det\n",
    "print log_xi_cov[0,0]\n",
    "print det(log_xi_cov/log_xi_cov[0,0])"
   ]
  },
  {
   "cell_type": "code",
   "execution_count": 19,
   "metadata": {
    "collapsed": false,
    "scrolled": true
   },
   "outputs": [
    {
     "name": "stdout",
     "output_type": "stream",
     "text": [
      "(0.00247670680274+0j) True\n",
      "(3.10770144589e-05+0j) True\n",
      "(2.32709290819e-05+0j) True\n",
      "(1.91845702425e-05+0j) True\n",
      "(1.08450867046e-05+0j) True\n",
      "(6.56558358882e-06+0j) True\n",
      "(3.92984430191e-06+0j) True\n",
      "(1.91468733092e-06+0j) True\n",
      "(1.46637760929e-06+0j) True\n",
      "(1.05184225457e-06+0j) True\n",
      "(8.76785394195e-07+0j) True\n",
      "(7.07172376322e-07+0j) True\n",
      "(6.19854482869e-07+0j) True\n",
      "(3.54710819218e-07+0j) True\n",
      "(1.57281943766e-07+0j) True\n",
      "(2.86771169933e-07+0j) True\n",
      "(2.22903752243e-07+0j) True\n",
      "(2.53549570389e-07+0j) True\n"
     ]
    }
   ],
   "source": [
    "c = log_xi_cov[:18,:][:,:18]\n",
    "for e in eigvals(c):\n",
    "    print e, e > 0"
   ]
  },
  {
   "cell_type": "code",
   "execution_count": 20,
   "metadata": {
    "collapsed": false
   },
   "outputs": [],
   "source": [
    "log_xi_mean = log_xi.mean()\n",
    "log_xi-=log_xi_mean"
   ]
  },
  {
   "cell_type": "code",
   "execution_count": 21,
   "metadata": {
    "collapsed": true
   },
   "outputs": [],
   "source": [
    "#gp.kernel[:] = [0.175, -0.32, -3.4]"
   ]
  },
  {
   "cell_type": "code",
   "execution_count": 22,
   "metadata": {
    "collapsed": false,
    "scrolled": false
   },
   "outputs": [
    {
     "ename": "AssertionError",
     "evalue": "",
     "output_type": "error",
     "traceback": [
      "\u001b[1;31m---------------------------------------------------------------------------\u001b[0m",
      "\u001b[1;31mAssertionError\u001b[0m                            Traceback (most recent call last)",
      "\u001b[1;32m<ipython-input-22-2de9bae2f271>\u001b[0m in \u001b[0;36m<module>\u001b[1;34m()\u001b[0m\n\u001b[0;32m      4\u001b[0m \u001b[0mRBIN_CENTERS\u001b[0m \u001b[1;33m=\u001b[0m \u001b[1;33m(\u001b[0m\u001b[1;33m(\u001b[0m\u001b[0mRBINS\u001b[0m\u001b[1;33m[\u001b[0m\u001b[1;33m:\u001b[0m\u001b[1;33m-\u001b[0m\u001b[1;36m1\u001b[0m\u001b[1;33m]\u001b[0m\u001b[1;33m+\u001b[0m\u001b[0mRBINS\u001b[0m\u001b[1;33m[\u001b[0m\u001b[1;36m1\u001b[0m\u001b[1;33m:\u001b[0m\u001b[1;33m]\u001b[0m\u001b[1;33m)\u001b[0m\u001b[1;33m/\u001b[0m\u001b[1;36m2\u001b[0m\u001b[1;33m)\u001b[0m\u001b[1;33m\u001b[0m\u001b[0m\n\u001b[0;32m      5\u001b[0m outputs = emulate_wrt_r(gp, log_xi, em_params, rpoints,\n\u001b[1;32m----> 6\u001b[1;33m                                     y_param=y_param,y_points=yp)\n\u001b[0m",
      "\u001b[1;32m/afs/slac.stanford.edu/u/ki/swmclau2/Git/HODEmulator/src/emulator.py\u001b[0m in \u001b[0;36memulate_wrt_r\u001b[1;34m(gp, xi, fixed_params, rpoints, y_param, y_points)\u001b[0m\n\u001b[0;32m    234\u001b[0m     \u001b[1;32massert\u001b[0m \u001b[1;34m'r'\u001b[0m \u001b[1;32mnot\u001b[0m \u001b[1;32min\u001b[0m \u001b[0mfixed_params\u001b[0m\u001b[1;33m\u001b[0m\u001b[0m\n\u001b[0;32m    235\u001b[0m     return emulate(gp,xi,fixed_params, x_param='r', x_points=rpoints,\n\u001b[1;32m--> 236\u001b[1;33m                     y_param=y_param,y_points=y_points)\n\u001b[0m\u001b[0;32m    237\u001b[0m \u001b[1;33m\u001b[0m\u001b[0m\n\u001b[0;32m    238\u001b[0m \u001b[1;32mif\u001b[0m \u001b[0m__name__\u001b[0m \u001b[1;33m==\u001b[0m \u001b[1;34m'__main__'\u001b[0m\u001b[1;33m:\u001b[0m\u001b[1;33m\u001b[0m\u001b[0m\n",
      "\u001b[1;32m/afs/slac.stanford.edu/u/ki/swmclau2/Git/HODEmulator/src/emulator.py\u001b[0m in \u001b[0;36memulate\u001b[1;34m(gp, xi, fixed_params, x_param, x_points, y_param, y_points)\u001b[0m\n\u001b[0;32m    168\u001b[0m     \u001b[1;32mif\u001b[0m \u001b[0my_param\u001b[0m \u001b[1;32mis\u001b[0m \u001b[1;32mnot\u001b[0m \u001b[0mNone\u001b[0m\u001b[1;33m:\u001b[0m\u001b[1;33m\u001b[0m\u001b[0m\n\u001b[0;32m    169\u001b[0m         \u001b[0minput_params\u001b[0m\u001b[1;33m.\u001b[0m\u001b[0madd\u001b[0m\u001b[1;33m(\u001b[0m\u001b[0my_param\u001b[0m\u001b[1;33m)\u001b[0m\u001b[1;33m\u001b[0m\u001b[0m\n\u001b[1;32m--> 170\u001b[1;33m     \u001b[1;32massert\u001b[0m \u001b[0mlen\u001b[0m\u001b[1;33m(\u001b[0m\u001b[0minput_params\u001b[0m\u001b[1;33m)\u001b[0m \u001b[1;33m==\u001b[0m \u001b[0mgp\u001b[0m\u001b[1;33m.\u001b[0m\u001b[0m_x\u001b[0m\u001b[1;33m.\u001b[0m\u001b[0mshape\u001b[0m\u001b[1;33m[\u001b[0m\u001b[1;36m1\u001b[0m\u001b[1;33m]\u001b[0m  \u001b[1;31m# check dimenstionality\u001b[0m\u001b[1;33m\u001b[0m\u001b[0m\n\u001b[0m\u001b[0;32m    171\u001b[0m     \u001b[1;32massert\u001b[0m \u001b[0mall\u001b[0m\u001b[1;33m(\u001b[0m\u001b[1;33m[\u001b[0m\u001b[0mi\u001b[0m \u001b[1;32min\u001b[0m \u001b[0mPARAMS\u001b[0m \u001b[1;32mor\u001b[0m \u001b[0mi\u001b[0m \u001b[1;33m==\u001b[0m \u001b[1;34m'r'\u001b[0m \u001b[1;32mfor\u001b[0m \u001b[0mi\u001b[0m \u001b[1;32min\u001b[0m \u001b[0minput_params\u001b[0m\u001b[1;33m]\u001b[0m\u001b[1;33m)\u001b[0m\u001b[1;33m\u001b[0m\u001b[0m\n\u001b[0;32m    172\u001b[0m     \u001b[1;31m# used to have a param check but forgot about the whole dropping params thing.\u001b[0m\u001b[1;33m\u001b[0m\u001b[1;33m\u001b[0m\u001b[0m\n",
      "\u001b[1;31mAssertionError\u001b[0m: "
     ]
    }
   ],
   "source": [
    "yp = np.linspace(BOUNDS[y_param][0],BOUNDS[y_param][1], num=N_PER_DIM)\n",
    "N = 200\n",
    "rpoints = np.linspace(-1, 1.5, N)\n",
    "RBIN_CENTERS = ((RBINS[:-1]+RBINS[1:])/2)\n",
    "outputs = emulate_wrt_r(gp, log_xi, em_params, rpoints,\n",
    "                                    y_param=y_param,y_points=yp)"
   ]
  },
  {
   "cell_type": "code",
   "execution_count": null,
   "metadata": {
    "collapsed": false
   },
   "outputs": [],
   "source": [
    "from matplotlib import pyplot as plt\n",
    "from itertools import cycle\n",
    "%matplotlib inline\n",
    "#plt.style.use('fivethirtyeight')\n",
    "import seaborn as sns\n",
    "sns.set()\n",
    "colors = cycle(sns.color_palette())"
   ]
  },
  {
   "cell_type": "code",
   "execution_count": null,
   "metadata": {
    "collapsed": false
   },
   "outputs": [],
   "source": [
    "print log_xi.shape"
   ]
  },
  {
   "cell_type": "code",
   "execution_count": null,
   "metadata": {
    "collapsed": false
   },
   "outputs": [],
   "source": [
    "#note should write a function that gives plot_xi given em_params\n",
    "plot_xi = 10**(log_xi+log_xi_mean)\n",
    "plot_xi = plot_xi.reshape((N_PER_DIM**(1+len(em_params)),len(RBINS)-1))\n",
    "\n",
    "plot_xi_err = np.sqrt(np.diag(log_xi_cov))\n",
    "plot_xi_err = plot_xi_err.reshape((N_PER_DIM**(1+len(em_params)),len(RBINS)-1) )\n",
    "\n",
    "plot_xi_err*=plot_xi*np.log(10)\n",
    "\n",
    "if len(em_params) > 0:\n",
    "    #plot_xi = plot_xi[2*N_PER_DIM:3*N_PER_DIM, :]\n",
    "    plot_xi = plot_xi[2:-1:N_PER_DIM, :]\n",
    "    \n",
    "    #plot_xi_err = plot_xi_err[2*N_PER_DIM:3*N_PER_DIM, :]\n",
    "    plot_xi_err = plot_xi_err[2:-1:N_PER_DIM, :]"
   ]
  },
  {
   "cell_type": "raw",
   "metadata": {},
   "source": [
    "#Note check which error is right!\n",
    "print 10**(log_xi_pred+log_xi_err)\n",
    "print 10**log_xi_pred*(1+np.log(10)*np.sqrt(log_xi_err))"
   ]
  },
  {
   "cell_type": "code",
   "execution_count": null,
   "metadata": {
    "collapsed": false
   },
   "outputs": [],
   "source": [
    "fig = plt.figure(figsize = (10, 10))\n",
    "for label, (log_xi_pred, log_xi_err),px, err,c in zip(yp, outputs, plot_xi,plot_xi_err,colors):\n",
    "\n",
    "    plt.plot(10**rpoints, 10**(log_xi_pred+log_xi_mean),label='%.3f'%label,color = c)\n",
    "    #plt.fill_between(10**rpoints,10**(log_xi_pred+log_xi_mean+log_xi_err),\n",
    "    #                 10**(log_xi_pred+log_xi_mean-log_xi_err), color = c, alpha = 0.3)\n",
    "    \n",
    "    plt.fill_between(10**rpoints,10**(log_xi_pred+log_xi_mean)*(1+np.log(10)*log_xi_err),\n",
    "                     10**(log_xi_pred+log_xi_mean)*(1-np.log(10)*log_xi_err), color = c, alpha = 0.3)\n",
    "\n",
    "    #plt.errorbar(RBIN_CENTERS, px,err, color =c,fmt = 'o')\n",
    "    \n",
    "plt.xlim(xmin = 0.1, xmax = 30)\n",
    "plt.ylim(ymin = 1e-2, ymax = 1e4)\n",
    "plt.title(\"Emulator w.r.t. %s\"%y_param, fontsize =20)\n",
    "plt.loglog()\n",
    "plt.xticks(fontsize=20)\n",
    "plt.yticks(fontsize=20)\n",
    "plt.xlabel(r'$r $  $\\rm{[Mpc]}$', fontsize=25)\n",
    "plt.ylabel(r'$\\xi_{\\rm gg}(r)$', fontsize=25)\n",
    "plt.legend(loc='best', fontsize=20)  "
   ]
  },
  {
   "cell_type": "code",
   "execution_count": null,
   "metadata": {
    "collapsed": false
   },
   "outputs": [],
   "source": [
    "N = 200\n",
    "plot_xi = plot_xi.T #switch rows and cols\n",
    "plot_xi_err = plot_xi_err.T\n",
    "yp = np.linspace(BOUNDS[y_param][0],BOUNDS[y_param][1], num=N)\n",
    "plot_yp = np.linspace(BOUNDS[y_param][0],BOUNDS[y_param][1], num=N_PER_DIM)\n",
    "rpoints = np.log10(RBIN_CENTERS)\n",
    "#print rpoints\n",
    "outputs = emulate(gp, log_xi, em_params,x_param=y_param, x_points=yp,y_param='r',y_points=rpoints)"
   ]
  },
  {
   "cell_type": "code",
   "execution_count": null,
   "metadata": {
    "collapsed": true
   },
   "outputs": [],
   "source": [
    "i = 4\n",
    "#remove some points\n",
    "rpoints=rpoints[::i]\n",
    "outputs=outputs[::i]\n",
    "plot_xi=plot_xi[::i]\n",
    "plot_xi_err = plot_xi_err[::i]"
   ]
  },
  {
   "cell_type": "code",
   "execution_count": null,
   "metadata": {
    "collapsed": false
   },
   "outputs": [],
   "source": [
    "fig = plt.figure(figsize = (10, 10))\n",
    "\n",
    "for label, (log_xi_pred, log_xi_err),px,err,c in zip(rpoints, outputs, plot_xi,plot_xi_err,colors):\n",
    "\n",
    "    plt.plot(yp, 10**(log_xi_pred+log_xi_mean),label='%.3f Mpc'%(10**label),color = c)\n",
    "    \n",
    "    plt.fill_between(yp,10**(log_xi_pred+log_xi_mean)*(1+np.log(10)*log_xi_err),\n",
    "                     10**(log_xi_pred+log_xi_mean)*(1-np.log(10)*log_xi_err), color = c, alpha = 0.3)\n",
    "    #plt.errorbar(plot_yp, px,err, color =c,fmt = 'o')\n",
    "    \n",
    "plt.xlim(xmin = 0.97*BOUNDS[y_param][0], xmax = BOUNDS[y_param][1]*1.03)\n",
    "plt.ylim(ymin = 10**(-2.5), ymax = 10**(3.5))\n",
    "plt.title(\"Emulator w.r.t. %s\"%y_param, fontsize =20)\n",
    "plt.xticks(fontsize=20)\n",
    "plt.yticks(fontsize=20)\n",
    "plt.yscale('log')\n",
    "plt.xticks(fontsize=20)\n",
    "plt.yticks(fontsize=20)\n",
    "plt.xlabel(r'$\\sigma_{log(M)}$  $\\rm{[Log_{10} M_{\\odot}]}$', fontsize=25)\n",
    "#plt.xlabel(r'$\\alpha$ ', fontsize=25)\n",
    "plt.ylabel(r'$\\xi_{\\rm gg}(r)$', fontsize=25)\n",
    "plt.legend(loc='best', fontsize=20)  "
   ]
  },
  {
   "cell_type": "code",
   "execution_count": null,
   "metadata": {
    "collapsed": true
   },
   "outputs": [],
   "source": []
  }
 ],
 "metadata": {
  "kernelspec": {
   "display_name": "Python 2",
   "language": "python",
   "name": "python2"
  },
  "language_info": {
   "codemirror_mode": {
    "name": "ipython",
    "version": 2
   },
   "file_extension": ".py",
   "mimetype": "text/x-python",
   "name": "python",
   "nbconvert_exporter": "python",
   "pygments_lexer": "ipython2",
   "version": "2.7.11"
  }
 },
 "nbformat": 4,
 "nbformat_minor": 0
}
