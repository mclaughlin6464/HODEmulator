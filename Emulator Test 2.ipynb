{
 "cells": [
  {
   "cell_type": "markdown",
   "metadata": {},
   "source": [
    "While I'm waiting for a full parmaeter cube to be generated, I'm testing the emulation framework I've made so far. /"
   ]
  },
  {
   "cell_type": "code",
   "execution_count": 25,
   "metadata": {
    "collapsed": false
   },
   "outputs": [],
   "source": [
    "import numpy as np\n",
    "from src.emulator import build_emulator, emulate, emulate_wrt_r, get_plot_data\n",
    "from src.allCorrFunc import RBINS\n",
    "from src.doBatchCalls import BOUNDS, N_PER_DIM"
   ]
  },
  {
   "cell_type": "code",
   "execution_count": 26,
   "metadata": {
    "collapsed": false
   },
   "outputs": [
    {
     "name": "stdout",
     "output_type": "stream",
     "text": [
      "logMmin\n",
      "[ 11.7         11.96666667  12.23333333  12.5       ]\n",
      "******************************\n",
      "f_c\n",
      "[ 0.1         0.23333333  0.36666667  0.5       ]\n",
      "******************************\n",
      "logM0\n",
      "[ 10.  11.  12.  13.]\n",
      "******************************\n",
      "sigma_logM\n",
      "[ 0.2         0.36666667  0.53333333  0.7       ]\n",
      "******************************\n",
      "logM1\n",
      "[ 13.1  13.5  13.9  14.3]\n",
      "******************************\n",
      "alpha\n",
      "[ 0.75        0.91666667  1.08333333  1.25      ]\n",
      "******************************\n"
     ]
    }
   ],
   "source": [
    "for key, val in BOUNDS.iteritems():\n",
    "    print key\n",
    "    print np.linspace(val[0], val[1], num=N_PER_DIM)\n",
    "    print '*'*30"
   ]
  },
  {
   "cell_type": "code",
   "execution_count": null,
   "metadata": {
    "collapsed": false
   },
   "outputs": [],
   "source": [
    "y_param = 'logMmin'\n",
    "#y_param = 'f_c'\n",
    "#y_param = 'logM0'\n",
    "#y_param = 'logM1'\n",
    "#y_param = 'sigma_logM'\n",
    "#y_param = 'alpha'\n",
    "\n",
    "#param_2 = 'logMmin'\n",
    "param_2 = 'sigma_logM'\n",
    "#param_2 = 'f_c'\n",
    "#parma_2 = 'logM0'\n",
    "\n",
    "#param_3 = 'sigma_logM'\n",
    "param_3 = 'logM0'\n",
    "#param_3='f_c'\n",
    "\n",
    "#param_4 = 'alpha'\n",
    "#param_4 = 'logM1'\n",
    "param_4 = 'f_c'\n",
    "\n",
    "#param_5= 'logM1'\n",
    "#param_5 = 'f_c'\n",
    "#param_5='alpha'\n",
    "\n",
    "emulation_point = [('f_c', 0.233), \n",
    "                   ('logM0', 12.0), ('sigma_logM', 0.533), ('alpha', 1.083),\n",
    "                   ('logM1', 13.5), ('logMmin', 12.233)]\n",
    "\n",
    "fiducial_point = {'logM0': 12.20, 'logM1': 13.7, 'alpha': 1.02, \n",
    "                  'logMmin': 12.1, 'f_c': 0.19, 'sigma_logM': 0.46}\n",
    "fixed_params = {key:val for key, val in emulation_point}\n",
    "#em_params = {}\n",
    "em_params = {param_2:fixed_params[param_2], param_3:fixed_params[param_3]}#,\n",
    "            #param_4:fixed_params[param_4]}#, param_5:fixed_params[param_5]} #varying y_param, holding this fixed in the emulator now. \n",
    "del fixed_params[y_param]\n",
    "del fixed_params[param_2]\n",
    "del fixed_params[param_3]\n",
    "#del fixed_params[param_4]\n",
    "#del fixed_params[param_5]"
   ]
  },
  {
   "cell_type": "code",
   "execution_count": null,
   "metadata": {
    "collapsed": false,
    "scrolled": false
   },
   "outputs": [
    {
     "name": "stdout",
     "output_type": "stream",
     "text": [
      "64 Points used for training.\n",
      "Initial Params: "
     ]
    }
   ],
   "source": [
    "#%%timeit\n",
    "from time import time\n",
    "t0 = time()\n",
    "gp, log_xi, log_xi_cov = build_emulator(fixed_params)\n",
    "print '%.3f s'%(time()-t0)"
   ]
  },
  {
   "cell_type": "code",
   "execution_count": null,
   "metadata": {
    "collapsed": false
   },
   "outputs": [],
   "source": [
    "from scipy.linalg import eigvals, det\n",
    "print log_xi_cov[0,0]\n",
    "print det(log_xi_cov/log_xi_cov[0,0])"
   ]
  },
  {
   "cell_type": "code",
   "execution_count": null,
   "metadata": {
    "collapsed": false,
    "scrolled": true
   },
   "outputs": [],
   "source": [
    "from scipy.linalg import eigvals\n",
    "c = log_xi_cov[:18,:][:,:18]\n",
    "for e in eigvals(c):\n",
    "    assert e > 0"
   ]
  },
  {
   "cell_type": "code",
   "execution_count": null,
   "metadata": {
    "collapsed": false
   },
   "outputs": [],
   "source": [
    "log_xi_mean = log_xi.mean()\n",
    "log_xi-=log_xi_mean"
   ]
  },
  {
   "cell_type": "code",
   "execution_count": null,
   "metadata": {
    "collapsed": true
   },
   "outputs": [],
   "source": [
    "#gp.kernel[:] = [0.175, -0.32, -3.4]"
   ]
  },
  {
   "cell_type": "code",
   "execution_count": null,
   "metadata": {
    "collapsed": false,
    "scrolled": false
   },
   "outputs": [],
   "source": [
    "yp = np.linspace(BOUNDS[y_param][0],BOUNDS[y_param][1], num=N_PER_DIM)\n",
    "N = 200\n",
    "rpoints = np.linspace(-1, 1.5, N)\n",
    "RBIN_CENTERS = ((RBINS[:-1]+RBINS[1:])/2)\n",
    "outputs = emulate_wrt_r(gp, log_xi, em_params, rpoints,\n",
    "                                    y_param=y_param,y_points=yp)"
   ]
  },
  {
   "cell_type": "code",
   "execution_count": null,
   "metadata": {
    "collapsed": false
   },
   "outputs": [],
   "source": [
    "from matplotlib import pyplot as plt\n",
    "from itertools import cycle\n",
    "%matplotlib inline\n",
    "#plt.style.use('fivethirtyeight')\n",
    "import seaborn as sns\n",
    "sns.set()\n",
    "colors = cycle(sns.color_palette())"
   ]
  },
  {
   "cell_type": "code",
   "execution_count": null,
   "metadata": {
    "collapsed": false
   },
   "outputs": [],
   "source": [
    "print log_xi.shape"
   ]
  },
  {
   "cell_type": "code",
   "execution_count": null,
   "metadata": {
    "collapsed": false
   },
   "outputs": [],
   "source": [
    "plot_r, plot_xi, plot_xi_err = get_plot_data(em_params, fixed_params)"
   ]
  },
  {
   "cell_type": "code",
   "execution_count": null,
   "metadata": {
    "collapsed": false
   },
   "outputs": [],
   "source": [
    "fig = plt.figure(figsize = (10, 10))\n",
    "for label, (log_xi_pred, log_xi_err),pr, px, err,c in zip(yp, outputs,plot_r, plot_xi,plot_xi_err,colors):\n",
    "\n",
    "    plt.plot(10**rpoints, (log_xi_pred+log_xi_mean),label='%.3f'%label,color = c)\n",
    "    #plt.fill_between(10**rpoints,10**(log_xi_pred+log_xi_mean+log_xi_err),\n",
    "    #                 10**(log_xi_pred+log_xi_mean-log_xi_err), color = c, alpha = 0.3)\n",
    "    \n",
    "    plt.fill_between(10**rpoints,log_xi_pred+log_xi_mean+log_xi_err,\n",
    "                     log_xi_pred+log_xi_mean-log_xi_err, color = c, alpha = 0.3)\n",
    "\n",
    "    plt.errorbar(10**pr, px,err, color =c,fmt = 'o')\n",
    "    \n",
    "plt.xlim(xmin = 0.1, xmax = 30)\n",
    "plt.ylim(ymin = -2, ymax = 4)\n",
    "plt.title(\"Emulator w.r.t. %s\"%y_param, fontsize =20)\n",
    "#plt.loglog()\n",
    "plt.xscale('log')\n",
    "plt.xticks(fontsize=20)\n",
    "plt.yticks(fontsize=20)\n",
    "plt.xlabel(r'$r $  $\\rm{[Mpc]}$', fontsize=25)\n",
    "plt.ylabel(r'$\\log_{10}{\\xi_{\\rm gg}(r) }$', fontsize=25)\n",
    "plt.legend(loc='best', fontsize=20)  "
   ]
  },
  {
   "cell_type": "code",
   "execution_count": null,
   "metadata": {
    "collapsed": false
   },
   "outputs": [],
   "source": [
    "N = 200\n",
    "plot_xi = plot_xi.T #switch rows and cols\n",
    "plot_xi_err = plot_xi_err.T\n",
    "plot_r = plot_r.T\n",
    "yp = np.linspace(BOUNDS[y_param][0],BOUNDS[y_param][1], num=N)\n",
    "plot_yp = np.linspace(BOUNDS[y_param][0],BOUNDS[y_param][1], num=N_PER_DIM)\n",
    "rpoints = np.log10(RBIN_CENTERS)\n",
    "#print rpoints\n",
    "outputs = emulate(gp, log_xi, em_params,x_param=y_param, x_points=yp,y_param='r',y_points=rpoints)"
   ]
  },
  {
   "cell_type": "code",
   "execution_count": null,
   "metadata": {
    "collapsed": true
   },
   "outputs": [],
   "source": [
    "i = 4\n",
    "#remove some points\n",
    "rpoints=rpoints[::i]\n",
    "outputs=outputs[::i]\n",
    "plot_r=plot_r[::i]\n",
    "plot_xi=plot_xi[::i]\n",
    "plot_xi_err = plot_xi_err[::i]"
   ]
  },
  {
   "cell_type": "code",
   "execution_count": null,
   "metadata": {
    "collapsed": false
   },
   "outputs": [],
   "source": [
    "fig = plt.figure(figsize = (10, 10))\n",
    "\n",
    "for label, (log_xi_pred, log_xi_err),px,err,c in zip(rpoints, outputs, plot_xi,plot_xi_err,colors):\n",
    "\n",
    "    plt.plot(yp, (log_xi_pred+log_xi_mean),label='%.3f Mpc'%(10**label),color = c)\n",
    "    \n",
    "    plt.fill_between(yp,log_xi_pred+log_xi_mean+log_xi_err,\n",
    "                     log_xi_pred+log_xi_mean-log_xi_err, color = c, alpha = 0.3)\n",
    "    plt.errorbar(plot_yp, px,err, color =c,fmt = 'o')\n",
    "    \n",
    "plt.xlim(xmin = 0.97*BOUNDS[y_param][0], xmax = BOUNDS[y_param][1]*1.03)\n",
    "plt.ylim(ymin = -2.5, ymax = 3.5)\n",
    "plt.title(\"Emulator w.r.t. %s\"%y_param, fontsize =20)\n",
    "plt.xticks(fontsize=20)\n",
    "plt.yticks(fontsize=20)\n",
    "#plt.yscale('log')\n",
    "plt.xticks(fontsize=20)\n",
    "plt.yticks(fontsize=20)\n",
    "plt.xlabel(r'$\\log_{10}{M_{min}}}$  $\\rm{[Log_{10} M_{\\odot}]}$', fontsize=25)\n",
    "#plt.xlabel(r'$\\alpha$ ', fontsize=25)\n",
    "plt.ylabel(r'$\\log_{10}{\\xi_{\\rm gg}(r) }$', fontsize=25)\n",
    "plt.legend(loc='best', fontsize=20)  "
   ]
  },
  {
   "cell_type": "code",
   "execution_count": null,
   "metadata": {
    "collapsed": true
   },
   "outputs": [],
   "source": []
  }
 ],
 "metadata": {
  "kernelspec": {
   "display_name": "Python 2",
   "language": "python",
   "name": "python2"
  },
  "language_info": {
   "codemirror_mode": {
    "name": "ipython",
    "version": 2
   },
   "file_extension": ".py",
   "mimetype": "text/x-python",
   "name": "python",
   "nbconvert_exporter": "python",
   "pygments_lexer": "ipython2",
   "version": "2.7.11"
  }
 },
 "nbformat": 4,
 "nbformat_minor": 0
}
