{
 "cells": [
  {
   "cell_type": "markdown",
   "metadata": {},
   "source": [
    "While I'm waiting for a full parmaeter cube to be generated, I'm testing the emulation framework I've made so far. /"
   ]
  },
  {
   "cell_type": "code",
   "execution_count": 33,
   "metadata": {
    "collapsed": false
   },
   "outputs": [],
   "source": [
    "import numpy as np\n",
    "from src.emulator import build_emulator, emulate, emulate_wrt_r, get_plot_data\n",
    "from src.allCorrFunc import RBINS\n",
    "from src.doBatchCalls import BOUNDS, N_PER_DIM"
   ]
  },
  {
   "cell_type": "code",
   "execution_count": 34,
   "metadata": {
    "collapsed": false
   },
   "outputs": [
    {
     "name": "stdout",
     "output_type": "stream",
     "text": [
      "logMmin\n",
      "[ 11.7         11.96666667  12.23333333  12.5       ]\n",
      "******************************\n",
      "f_c\n",
      "[ 0.1         0.23333333  0.36666667  0.5       ]\n",
      "******************************\n",
      "logM0\n",
      "[ 10.  11.  12.  13.]\n",
      "******************************\n",
      "sigma_logM\n",
      "[ 0.2         0.36666667  0.53333333  0.7       ]\n",
      "******************************\n",
      "logM1\n",
      "[ 13.1  13.5  13.9  14.3]\n",
      "******************************\n",
      "alpha\n",
      "[ 0.75        0.91666667  1.08333333  1.25      ]\n",
      "******************************\n"
     ]
    }
   ],
   "source": [
    "for key, val in BOUNDS.iteritems():\n",
    "    print key\n",
    "    print np.linspace(val[0], val[1], num=N_PER_DIM)\n",
    "    print '*'*30"
   ]
  },
  {
   "cell_type": "code",
   "execution_count": 35,
   "metadata": {
    "collapsed": false
   },
   "outputs": [],
   "source": [
    "bias = True\n",
    "y_param = 'logMmin'\n",
    "#y_param = 'f_c'\n",
    "#y_param = 'logM0'\n",
    "#y_param = 'logM1'\n",
    "#y_param = 'sigma_logM'\n",
    "#y_param = 'alpha'\n",
    "\n",
    "#param_2 = 'logMmin'\n",
    "param_2 = 'sigma_logM'\n",
    "#param_2 = 'f_c'\n",
    "#parma_2 = 'logM0'\n",
    "\n",
    "#param_3 = 'sigma_logM'\n",
    "param_3 = 'logM0'\n",
    "#param_3='f_c'\n",
    "\n",
    "#param_4 = 'alpha'\n",
    "#param_4 = 'logM1'\n",
    "param_4 = 'f_c'\n",
    "\n",
    "#param_5= 'logM1'\n",
    "#param_5 = 'f_c'\n",
    "#param_5='alpha'\n",
    "\n",
    "emulation_point = [('f_c', 0.233), \n",
    "                   ('logM0', 12.0), ('sigma_logM', 0.533), ('alpha', 1.083),\n",
    "                   ('logM1', 13.5), ('logMmin', 12.233)]\n",
    "\n",
    "fiducial_point = {'logM0': 12.20, 'logM1': 13.7, 'alpha': 1.02, \n",
    "                  'logMmin': 12.1, 'f_c': 0.19, 'sigma_logM': 0.46}\n",
    "fixed_params = {key:val for key, val in emulation_point}\n",
    "#em_params = {}\n",
    "em_params = {param_2:fixed_params[param_2], param_3:fixed_params[param_3]}#,\n",
    "            #param_4:fixed_params[param_4]}#, param_5:fixed_params[param_5]} #varying y_param, holding this fixed in the emulator now. \n",
    "del fixed_params[y_param]\n",
    "del fixed_params[param_2]\n",
    "del fixed_params[param_3]\n",
    "#del fixed_params[param_4]\n",
    "#del fixed_params[param_5]"
   ]
  },
  {
   "cell_type": "code",
   "execution_count": 36,
   "metadata": {
    "collapsed": false,
    "scrolled": true
   },
   "outputs": [
    {
     "name": "stdout",
     "output_type": "stream",
     "text": [
      "64 Points used for training.\n",
      "Initial Params:  [ 6.    0.03  0.03  0.03  0.03]\n",
      "GP Optimization Failed.\n",
      "GP Params:  [ 6.72734705  0.05172751  0.02408372  0.03052224  0.03282459]\n",
      "68.623 s\n"
     ]
    }
   ],
   "source": [
    "#%%timeit\n",
    "from time import time\n",
    "t0 = time()\n",
    "gp, log_xi, log_xi_cov = build_emulator(fixed_params, bias=bias)\n",
    "print '%.3f s'%(time()-t0)"
   ]
  },
  {
   "cell_type": "code",
   "execution_count": 60,
   "metadata": {
    "collapsed": false
   },
   "outputs": [
    {
     "name": "stdout",
     "output_type": "stream",
     "text": [
      "0.000128864952226\n",
      "2.73742847668e-201\n"
     ]
    }
   ],
   "source": [
    "from scipy.linalg import det, eigh, inv\n",
    "print log_xi_cov[0,0]\n",
    "print det(log_xi_cov/log_xi_cov[0,0])"
   ]
  },
  {
   "cell_type": "code",
   "execution_count": 62,
   "metadata": {
    "collapsed": false
   },
   "outputs": [
    {
     "name": "stdout",
     "output_type": "stream",
     "text": [
      "[[  9.39709880e-06  -6.04959108e-06   7.35786164e-07  -2.17095950e-04\n",
      "   -7.29778729e-04  -3.97028930e-04   1.33477516e-03  -4.99852371e-04\n",
      "   -3.01573628e-03  -4.47839351e-03  -3.28409826e-03  -1.54229950e-02\n",
      "   -1.03450485e-02  -2.55574906e-03  -7.97565464e-02  -5.29880124e-04\n",
      "   -2.34686235e-04  -9.72217086e-06]\n",
      " [ -6.04959108e-06   9.15165229e-04  -1.36647765e-04   1.62095372e-04\n",
      "    3.92864509e-05  -1.15762248e-03  -6.46280566e-04   1.32804448e-03\n",
      "   -7.48135481e-03   2.96756087e-02  -3.76017622e-02  -3.76802053e-03\n",
      "    1.61984507e-04  -9.29382769e-03   1.94153759e-03  -2.48612546e-03\n",
      "   -2.87139515e-04  -1.29229883e-06]\n",
      " [  7.35786164e-07  -1.36647765e-04   1.47594106e-03  -4.36474852e-05\n",
      "   -6.53748119e-04  -3.30346694e-03   2.36618850e-06   1.57839895e-02\n",
      "    1.12800616e-02   6.88555125e-05  -1.02181083e-01  -2.66931711e-01\n",
      "    4.05801036e-03   1.92296898e-03  -2.16290945e-03   1.90798660e-02\n",
      "   -5.98079299e-03  -4.76553034e-05]\n",
      " [ -2.17095950e-04   1.62095372e-04  -4.36474852e-05   8.52582327e-04\n",
      "   -2.21676208e-03  -9.59646592e-03  -3.99335519e-04  -3.02941471e-02\n",
      "   -2.43446412e-02   1.83411679e-01   1.66582309e-02   5.92120709e-03\n",
      "    2.25423476e-03  -7.22492932e-02  -4.49305833e-02   4.47117264e-02\n",
      "   -6.84276297e-03  -9.42973045e-05]\n",
      " [ -7.29778729e-04   3.92864509e-05  -6.53748119e-04  -2.21676208e-03\n",
      "    4.07745757e-02   4.07082822e-02  -6.24346763e-02   2.75891500e-01\n",
      "    7.95945117e-03   5.83558691e-02   7.80223392e-03   1.24554544e-02\n",
      "   -4.19669755e-02  -2.48950848e-02  -5.11758282e-02   4.85488585e-02\n",
      "   -3.56676789e-03  -2.25942368e-05]\n",
      " [ -3.97028930e-04  -1.15762248e-03  -3.30346694e-03  -9.59646592e-03\n",
      "    4.07082822e-02   4.57115770e-07   2.98860681e-01  -1.55974821e-01\n",
      "    6.93601443e-02  -5.42272698e-02  -1.27445254e-02  -4.29269959e-02\n",
      "    7.46187770e-02   1.40540722e-02   4.51655877e-02  -3.59227108e-02\n",
      "    2.45696502e-03   2.12970708e-05]\n",
      " [  1.33477516e-03  -6.46280566e-04   2.36618850e-06  -3.99335519e-04\n",
      "   -6.24346763e-02   2.98860681e-01   1.27633261e-01  -1.71449879e-01\n",
      "   -2.45312790e-02   7.21776937e-02  -2.09855156e-02  -3.15460731e-02\n",
      "   -2.85921200e-03  -2.32471661e-02  -5.93250622e-03   9.15247761e-03\n",
      "   -1.78180847e-03  -1.80076993e-05]\n",
      " [ -4.99852371e-04   1.32804448e-03   1.57839895e-02  -3.02941471e-02\n",
      "    2.75891500e-01  -1.55974821e-01  -1.71449879e-01   2.20459474e-02\n",
      "    1.47044653e-03  -1.38963555e-02   1.23769365e-02   2.79840803e-02\n",
      "   -5.90272213e-03   1.51801443e-02  -2.98746172e-02   4.67371240e-02\n",
      "   -2.85983666e-03   1.35528939e-05]\n",
      " [ -3.01573628e-03  -7.48135481e-03   1.12800616e-02  -2.43446412e-02\n",
      "    7.95945117e-03   6.93601443e-02  -2.45312790e-02   1.47044653e-03\n",
      "    4.74759403e-02  -1.33927835e-02  -5.21008152e-02  -7.66004763e-03\n",
      "    1.85078091e-04  -1.98834009e-02   2.48225152e-02  -3.48179431e-02\n",
      "    5.17645766e-03   2.12023374e-05]\n",
      " [ -4.47839351e-03   2.96756087e-02   6.88555125e-05   1.83411679e-01\n",
      "    5.83558691e-02  -5.42272698e-02   7.21776937e-02  -1.38963555e-02\n",
      "   -1.33927835e-02   1.08527228e-04  -7.31611187e-03   4.11667748e-03\n",
      "    2.43907377e-02  -2.50309193e-02   1.94993486e-02  -5.77486235e-02\n",
      "    1.34434222e-02   2.50798262e-05]\n",
      " [ -3.28409826e-03  -3.76017622e-02  -1.02181083e-01   1.66582309e-02\n",
      "    7.80223392e-03  -1.27445254e-02  -2.09855156e-02   1.23769365e-02\n",
      "   -5.21008152e-02  -7.31611187e-03   5.20097109e-02   1.34474942e-02\n",
      "    3.64915031e-02  -9.22386031e-04  -1.90158473e-02  -5.69508792e-02\n",
      "    2.05398927e-02  -1.01654892e-06]\n",
      " [ -1.54229950e-02  -3.76802053e-03  -2.66931711e-01   5.92120709e-03\n",
      "    1.24554544e-02  -4.29269959e-02  -3.15460731e-02   2.79840803e-02\n",
      "   -7.66004763e-03   4.11667748e-03   1.34474942e-02   1.02856977e-02\n",
      "    1.94836915e-02  -1.91605256e-03  -1.90566877e-03  -1.09391829e-02\n",
      "    3.92664351e-03  -3.63101582e-06]\n",
      " [ -1.03450485e-02   1.61984507e-04   4.05801036e-03   2.25423476e-03\n",
      "   -4.19669755e-02   7.46187770e-02  -2.85921200e-03  -5.90272213e-03\n",
      "    1.85078091e-04   2.43907377e-02   3.64915031e-02   1.94836915e-02\n",
      "    6.28464821e-02  -7.34758037e-03   3.22427423e-02   4.82036139e-02\n",
      "   -5.98541977e-02   2.51612592e-04]\n",
      " [ -2.55574906e-03  -9.29382769e-03   1.92296898e-03  -7.22492932e-02\n",
      "   -2.48950848e-02   1.40540722e-02  -2.32471661e-02   1.51801443e-02\n",
      "   -1.98834009e-02  -2.50309193e-02  -9.22386031e-04  -1.91605256e-03\n",
      "   -7.34758037e-03   2.36290102e-04   1.95169632e-03   9.12373222e-03\n",
      "   -1.24922784e-02   1.72469412e-05]\n",
      " [ -7.97565464e-02   1.94153759e-03  -2.16290945e-03  -4.49305833e-02\n",
      "   -5.11758282e-02   4.51655877e-02  -5.93250622e-03  -2.98746172e-02\n",
      "    2.48225152e-02   1.94993486e-02  -1.90158473e-02  -1.90566877e-03\n",
      "    3.22427423e-02   1.95169632e-03   1.04846407e-03   2.17143324e-03\n",
      "   -3.22688013e-03   2.37812203e-04]\n",
      " [ -5.29880124e-04  -2.48612546e-03   1.90798660e-02   4.47117264e-02\n",
      "    4.85488585e-02  -3.59227108e-02   9.15247761e-03   4.67371240e-02\n",
      "   -3.48179431e-02  -5.77486235e-02  -5.69508792e-02  -1.09391829e-02\n",
      "    4.82036139e-02   9.12373222e-03   2.17143324e-03   2.71255126e-02\n",
      "   -2.13750043e-01   1.10736697e-02]\n",
      " [ -2.34686235e-04  -2.87139515e-04  -5.98079299e-03  -6.84276297e-03\n",
      "   -3.56676789e-03   2.45696502e-03  -1.78180847e-03  -2.85983666e-03\n",
      "    5.17645766e-03   1.34434222e-02   2.05398927e-02   3.92664351e-03\n",
      "   -5.98541977e-02  -1.24922784e-02  -3.22688013e-03  -2.13750043e-01\n",
      "    3.93799886e-01  -5.83959494e-02]\n",
      " [ -9.72217086e-06  -1.29229883e-06  -4.76553034e-05  -9.42973045e-05\n",
      "   -2.25942368e-05   2.12970708e-05  -1.80076993e-05   1.35528939e-05\n",
      "    2.12023374e-05   2.50798262e-05  -1.01654892e-06  -3.63101582e-06\n",
      "    2.51612592e-04   1.72469412e-05   2.37812203e-04   1.10736697e-02\n",
      "   -5.83959494e-02   9.21520057e-01]]\n"
     ]
    }
   ],
   "source": [
    "D, P = eigh(log_xi_cov[:18, :][:,:18])\n",
    "test = P.conj()*D*P\n",
    "print P.T*P"
   ]
  },
  {
   "cell_type": "code",
   "execution_count": null,
   "metadata": {
    "collapsed": false,
    "scrolled": true
   },
   "outputs": [],
   "source": [
    "from scipy.linalg import eigvals\n",
    "c = log_xi_cov[:18,:][:,:18]\n",
    "for e in eigvals(c):\n",
    "    assert e > 0"
   ]
  },
  {
   "cell_type": "code",
   "execution_count": null,
   "metadata": {
    "collapsed": false
   },
   "outputs": [],
   "source": [
    "log_xi_mean = log_xi.mean()\n",
    "log_xi-=log_xi_mean"
   ]
  },
  {
   "cell_type": "code",
   "execution_count": null,
   "metadata": {
    "collapsed": true
   },
   "outputs": [],
   "source": [
    "#gp.kernel[:] = [0.175, -0.32, -3.4]"
   ]
  },
  {
   "cell_type": "code",
   "execution_count": null,
   "metadata": {
    "collapsed": false,
    "scrolled": false
   },
   "outputs": [],
   "source": [
    "yp = np.linspace(BOUNDS[y_param][0],BOUNDS[y_param][1], num=N_PER_DIM)\n",
    "N = 200\n",
    "rpoints = np.linspace(-1, 1.5, N)\n",
    "RBIN_CENTERS = ((RBINS[:-1]+RBINS[1:])/2)\n",
    "outputs = emulate_wrt_r(gp, log_xi, em_params, rpoints,\n",
    "                                    y_param=y_param,y_points=yp)"
   ]
  },
  {
   "cell_type": "code",
   "execution_count": null,
   "metadata": {
    "collapsed": false
   },
   "outputs": [],
   "source": [
    "from matplotlib import pyplot as plt\n",
    "from itertools import cycle\n",
    "%matplotlib inline\n",
    "#plt.style.use('fivethirtyeight')\n",
    "import seaborn as sns\n",
    "sns.set()\n",
    "colors = cycle(sns.color_palette())"
   ]
  },
  {
   "cell_type": "code",
   "execution_count": null,
   "metadata": {
    "collapsed": false
   },
   "outputs": [],
   "source": [
    "print log_xi.shape"
   ]
  },
  {
   "cell_type": "code",
   "execution_count": null,
   "metadata": {
    "collapsed": false
   },
   "outputs": [],
   "source": [
    "plot_r, plot_xi, plot_xi_err = get_plot_data(em_params, fixed_params, bias=bias)"
   ]
  },
  {
   "cell_type": "code",
   "execution_count": null,
   "metadata": {
    "collapsed": false
   },
   "outputs": [],
   "source": [
    "fig = plt.figure(figsize = (10, 10))\n",
    "for label, (log_xi_pred, log_xi_err),pr, px, err,c in zip(yp, outputs,plot_r, plot_xi,plot_xi_err,colors):\n",
    "\n",
    "    plt.plot(10**rpoints, (log_xi_pred+log_xi_mean),label='%.3f'%label,color = c)\n",
    "    #plt.fill_between(10**rpoints,10**(log_xi_pred+log_xi_mean+log_xi_err),\n",
    "    #                 10**(log_xi_pred+log_xi_mean-log_xi_err), color = c, alpha = 0.3)\n",
    "    \n",
    "    plt.fill_between(10**rpoints,log_xi_pred+log_xi_mean+log_xi_err,\n",
    "                     log_xi_pred+log_xi_mean-log_xi_err, color = c, alpha = 0.3)\n",
    "\n",
    "    plt.errorbar(10**pr, px,err, color =c,fmt = 'o')\n",
    "\n",
    "plt.xlim(xmin = 0.1, xmax = 30)    \n",
    "if bias:\n",
    "    plt.ylim(ymin = 0, ymax = 15)\n",
    "else:\n",
    "    plt.ylim(ymin = -2, ymax = 4)\n",
    "plt.title(\"Emulator w.r.t. %s\"%y_param, fontsize =20)\n",
    "#plt.loglog()\n",
    "plt.xscale('log')\n",
    "plt.xticks(fontsize=20)\n",
    "plt.yticks(fontsize=20)\n",
    "plt.xlabel(r'$r $  $\\rm{[Mpc]}$', fontsize=25)\n",
    "if bias:\n",
    "    plt.ylabel(r'$\\xi_{\\rm gg}/\\xi_{\\rm mm} }$', fontsize=25)\n",
    "else:\n",
    "    plt.ylabel(r'$\\log_{10}{\\xi_{\\rm gg}(r) }$', fontsize=25)\n",
    "plt.legend(loc='best', fontsize=20)  "
   ]
  },
  {
   "cell_type": "code",
   "execution_count": null,
   "metadata": {
    "collapsed": false
   },
   "outputs": [],
   "source": [
    "N = 200\n",
    "plot_xi = plot_xi.T #switch rows and cols\n",
    "plot_xi_err = plot_xi_err.T\n",
    "plot_r = plot_r.T\n",
    "yp = np.linspace(BOUNDS[y_param][0],BOUNDS[y_param][1], num=N)\n",
    "plot_yp = np.linspace(BOUNDS[y_param][0],BOUNDS[y_param][1], num=N_PER_DIM)\n",
    "rpoints = np.log10(RBIN_CENTERS)\n",
    "#print rpoints\n",
    "outputs = emulate(gp, log_xi, em_params,x_param=y_param, x_points=yp,y_param='r',y_points=rpoints)"
   ]
  },
  {
   "cell_type": "code",
   "execution_count": null,
   "metadata": {
    "collapsed": true
   },
   "outputs": [],
   "source": [
    "i = 4\n",
    "#remove some points\n",
    "rpoints=rpoints[::i]\n",
    "outputs=outputs[::i]\n",
    "plot_r=plot_r[::i]\n",
    "plot_xi=plot_xi[::i]\n",
    "plot_xi_err = plot_xi_err[::i]"
   ]
  },
  {
   "cell_type": "code",
   "execution_count": null,
   "metadata": {
    "collapsed": false
   },
   "outputs": [],
   "source": [
    "fig = plt.figure(figsize = (10, 10))\n",
    "\n",
    "for label, (log_xi_pred, log_xi_err),px,err,c in zip(rpoints, outputs, plot_xi,plot_xi_err,colors):\n",
    "\n",
    "    plt.plot(yp, (log_xi_pred+log_xi_mean),label='%.3f Mpc'%(10**label),color = c)\n",
    "    \n",
    "    plt.fill_between(yp,log_xi_pred+log_xi_mean+log_xi_err,\n",
    "                     log_xi_pred+log_xi_mean-log_xi_err, color = c, alpha = 0.3)\n",
    "    plt.errorbar(plot_yp, px,err, color =c,fmt = 'o')\n",
    "    \n",
    "plt.xlim(xmin = 0.97*BOUNDS[y_param][0], xmax = BOUNDS[y_param][1]*1.03)\n",
    "if bias:\n",
    "    plt.ylim(ymin=0, ymax=15)\n",
    "else:\n",
    "    plt.ylim(ymin = -2.5, ymax = 3.5)\n",
    "plt.title(\"Emulator w.r.t. %s\"%y_param, fontsize =20)\n",
    "plt.xticks(fontsize=20)\n",
    "plt.yticks(fontsize=20)\n",
    "#plt.yscale('log')\n",
    "plt.xticks(fontsize=20)\n",
    "plt.yticks(fontsize=20)\n",
    "plt.xlabel(r'$\\log_{10}{M_{min}}}$  $\\rm{[Log_{10} M_{\\odot}]}$', fontsize=25)\n",
    "#plt.xlabel(r'$\\alpha$ ', fontsize=25)\n",
    "if bias:\n",
    "    plt.ylabel(r'$\\xi_{\\rm gg}/\\xi_{\\rm mm} }$', fontsize=25)\n",
    "else:\n",
    "    plt.ylabel(r'$\\log_{10}{\\xi_{\\rm gg}(r) }$', fontsize=25)\n",
    "plt.legend(loc='best', fontsize=20)  "
   ]
  },
  {
   "cell_type": "code",
   "execution_count": null,
   "metadata": {
    "collapsed": true
   },
   "outputs": [],
   "source": []
  }
 ],
 "metadata": {
  "kernelspec": {
   "display_name": "Python 2",
   "language": "python",
   "name": "python2"
  },
  "language_info": {
   "codemirror_mode": {
    "name": "ipython",
    "version": 2
   },
   "file_extension": ".py",
   "mimetype": "text/x-python",
   "name": "python",
   "nbconvert_exporter": "python",
   "pygments_lexer": "ipython2",
   "version": "2.7.11"
  }
 },
 "nbformat": 4,
 "nbformat_minor": 0
}
