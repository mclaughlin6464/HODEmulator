{
 "cells": [
  {
   "cell_type": "code",
   "execution_count": 1,
   "metadata": {
    "collapsed": true
   },
   "outputs": [],
   "source": [
    "import numpy as np\n",
    "import matplotlib\n",
    "%matplotlib inline\n",
    "from matplotlib import pyplot as plt\n",
    "import seaborn as sns\n",
    "sns.set()\n",
    "colors = sns.color_palette()"
   ]
  },
  {
   "cell_type": "code",
   "execution_count": 2,
   "metadata": {
    "collapsed": false
   },
   "outputs": [],
   "source": [
    "from halotools.empirical_models import HodModelFactory\n",
    "from halotools.empirical_models import TrivialPhaseSpace, Zheng07Cens\n",
    "from halotools.empirical_models import NFWPhaseSpace, Zheng07Sats\n",
    "from halotools.sim_manager import CachedHaloCatalog\n",
    "from src.redMagicHOD import RedMagicCens, RedMagicSats, StepFuncCens, StepFuncSats"
   ]
  },
  {
   "cell_type": "code",
   "execution_count": 3,
   "metadata": {
    "collapsed": false
   },
   "outputs": [],
   "source": [
    "rz = 0.0\n",
    "cens_prof_model = TrivialPhaseSpace(redshift = rz)\n",
    "sats_prof_model = NFWPhaseSpace(redshift = rz)\n",
    "model_instance = HodModelFactory(\n",
    "        centrals_occupation = StepFuncCens(redshift = rz),\n",
    "        #centrals_occupation = RedMagicCens(redshift = rz),\n",
    "        centrals_profile = cens_prof_model,\n",
    "        satellites_occupation = StepFuncSats(redshift = rz),\n",
    "        #satellites_occupation = RedMagicSats(redshift = rz),\n",
    "        satellites_profile = sats_prof_model)"
   ]
  },
  {
   "cell_type": "code",
   "execution_count": 4,
   "metadata": {
    "collapsed": false
   },
   "outputs": [
    {
     "name": "stdout",
     "output_type": "stream",
     "text": [
      "{'logM0': 11.38, 'sigma_logM': 0.26, 'logMmin': 12.254901959985743, 'alpha': 1.06, 'logM1': 13.31}\n"
     ]
    }
   ],
   "source": [
    "print model_instance.param_dict"
   ]
  },
  {
   "cell_type": "code",
   "execution_count": 5,
   "metadata": {
    "collapsed": true
   },
   "outputs": [],
   "source": [
    "model_instance.param_dict['logMmin'] = 13.0"
   ]
  },
  {
   "cell_type": "code",
   "execution_count": 6,
   "metadata": {
    "collapsed": false
   },
   "outputs": [],
   "source": [
    "simname = 'emu'\n",
    "rz = 0.0\n",
    "version_name = 'most_recent'\n",
    "size = (1050.0)**3\n",
    "halocat= CachedHaloCatalog(simname = simname, halo_finder = 'rockstar',version_name = version_name, redshift = rz)"
   ]
  },
  {
   "cell_type": "code",
   "execution_count": 7,
   "metadata": {
    "collapsed": false
   },
   "outputs": [
    {
     "name": "stdout",
     "output_type": "stream",
     "text": [
      "Array:\n",
      "609907 (8641631,)\n"
     ]
    }
   ],
   "source": [
    "model_instance.populate_mock(halocat, Num_ptcl_requirement = 0)"
   ]
  },
  {
   "cell_type": "code",
   "execution_count": 8,
   "metadata": {
    "collapsed": false
   },
   "outputs": [],
   "source": [
    "from halotools.mock_observables import return_xyz_formatted_array\n",
    "from halotools.utils import group_member_generator\n",
    "\n",
    "halos = model_instance.mock.halo_table\n",
    "\n",
    "#halos = halos[halos['halo_mvir']> 7e12]\n",
    "\n",
    "halos.sort(['halo_id', 'halo_upid'])\n",
    "grouping_key = 'halo_id'\n",
    "requested_columns = ['halo_num_centrals', 'halo_num_satellites', 'halo_mvir']\n",
    "group_gen = group_member_generator(halos, grouping_key, requested_columns)\n",
    "\n",
    "ncen = []\n",
    "nsat = []\n",
    "mass = []\n",
    "\n",
    "for first, last, member_props in group_gen:\n",
    "\n",
    "    ncen.append(member_props[0][0])\n",
    "    nsat.append(member_props[1][0])\n",
    "    mass.append(member_props[2][0]) \n",
    "    \n",
    "ncen = np.array(ncen)\n",
    "nsat = np.array(nsat)\n",
    "mass = np.array(mass)"
   ]
  },
  {
   "cell_type": "code",
   "execution_count": 9,
   "metadata": {
    "collapsed": true
   },
   "outputs": [],
   "source": [
    "from halotools.mock_observables import mean_y_vs_x\n",
    "xmin, xmax = 1e11, 1e16\n",
    "ymin, ymax = 0, 70\n",
    "halo_mass = np.logspace(np.log10(xmin),np.log10(xmax),100) #bad name, actually mass bins. \n",
    "\n",
    "binned_logmass, ncen_hat, ncen_err= mean_y_vs_x(mass, ncen, bins = halo_mass, error_estimator = 'variance')\n",
    "binned_logmass, nsat_hat, nsat_err= mean_y_vs_x(mass, nsat, bins = halo_mass, error_estimator = 'variance')\n",
    "\n",
    "nhalo_binned, be = np.histogram(mass, halo_mass)"
   ]
  },
  {
   "cell_type": "code",
   "execution_count": 10,
   "metadata": {
    "collapsed": false
   },
   "outputs": [
    {
     "name": "stdout",
     "output_type": "stream",
     "text": [
      "Array:\n",
      "60 (100,)\n"
     ]
    }
   ],
   "source": [
    "mean_ncen = model_instance.mean_occupation_centrals(prim_haloprop = halo_mass)\n",
    "mean_nsat = model_instance.mean_occupation_satellites(prim_haloprop = halo_mass)"
   ]
  },
  {
   "cell_type": "raw",
   "metadata": {
    "collapsed": true
   },
   "source": [
    "np.savetxt('/u/ki/swmclau2/des/HODOutput/numDensities/%s_%s_%.1f_mass.npy'%(simname,version_name, rz), mass)\n",
    "np.savetxt('/u/ki/swmclau2/des/HODOutput/numDensities/%s_%s_%.1f_halo_weight.npy'%(simname,version_name, rz),np.ones(mass.shape)/size)\n",
    "np.savetxt('/u/ki/swmclau2/des/HODOutput/numDensities/%s_%s_%.1f_cen_weight.npy'%(simname,version_name, rz),ncen/size)\n",
    "np.savetxt('/u/ki/swmclau2/des/HODOutput/numDensities/%s_%s_%.1f_sat_weight.npy'%(simname,version_name, rz),nsat/size)"
   ]
  },
  {
   "cell_type": "code",
   "execution_count": 11,
   "metadata": {
    "collapsed": false
   },
   "outputs": [
    {
     "name": "stdout",
     "output_type": "stream",
     "text": [
      "-0.00693810517299 0.0\n"
     ]
    }
   ],
   "source": [
    "print sum(ncen/size - np.ones(mass.shape)/size), sum(nsat/size), "
   ]
  },
  {
   "cell_type": "code",
   "execution_count": 12,
   "metadata": {
    "collapsed": false,
    "scrolled": false
   },
   "outputs": [
    {
     "data": {
      "image/png": "[encoded data removed]",
      "text/plain": [
       "<matplotlib.figure.Figure at 0x7fe234af1f10>"
      ]
     },
     "metadata": {},
     "output_type": "display_data"
    }
   ],
   "source": [
    "fig = plt.figure(figsize = (11,7.5))\n",
    "\n",
    "plt.subplot(211)\n",
    "plt.title(\"Num Density of Halos Per Halo Mass Bin Per Cubic Mpc\",fontsize = 20)\n",
    "\n",
    "plt.hist(mass, halo_mass, weights = np.ones(mass.shape)/size, color = colors[1])\n",
    "plt.xscale('log')\n",
    "plt.ticklabel_format(style='sci', axis='y',scilimits=(0,0))\n",
    "\n",
    "plt.xlim([xmin,xmax])\n",
    "plt.ylim([0, 5e-4])\n",
    "\n",
    "plt.subplot(212)\n",
    "plt.title(\"Num Density of Galaxies Per Halo Mass Bin Per Cubic Mpc\",fontsize = 20)\n",
    "plt.hist(mass, halo_mass,weights = ncen/size, color = colors[2], label = 'Central')\n",
    "plt.hist(mass, halo_mass,weights = nsat/size, color = colors[3], alpha = 0.5, label = 'Satellite')\n",
    "plt.legend(loc = 'best')\n",
    "\n",
    "plt.xscale('log')\n",
    "plt.ticklabel_format(style='sci', axis='y', scilimits=(0,0))\n",
    "\n",
    "plt.xlim([xmin,xmax])\n",
    "plt.ylim([0, 5e-5])\n",
    "\n",
    "plt.suptitle('%s\\t $z = %.1f$'%(simname, rz), fontsize = 25)\n",
    "\n",
    "plt.show()"
   ]
  },
  {
   "cell_type": "code",
   "execution_count": null,
   "metadata": {
    "collapsed": true
   },
   "outputs": [],
   "source": []
  }
 ],
 "metadata": {
  "kernelspec": {
   "display_name": "Python 2",
   "language": "python",
   "name": "python2"
  },
  "language_info": {
   "codemirror_mode": {
    "name": "ipython",
    "version": 2
   },
   "file_extension": ".py",
   "mimetype": "text/x-python",
   "name": "python",
   "nbconvert_exporter": "python",
   "pygments_lexer": "ipython2",
   "version": "2.7.11"
  }
 },
 "nbformat": 4,
 "nbformat_minor": 0
}
