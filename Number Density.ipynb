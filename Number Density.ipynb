{
 "cells": [
  {
   "cell_type": "code",
   "execution_count": 1,
   "metadata": {
    "collapsed": true
   },
   "outputs": [],
   "source": [
    "import numpy as np\n",
    "import matplotlib\n",
    "%matplotlib inline\n",
    "from matplotlib import pyplot as plt\n",
    "import seaborn as sns\n",
    "sns.set()\n",
    "colors = sns.color_palette()"
   ]
  },
  {
   "cell_type": "code",
   "execution_count": 2,
   "metadata": {
    "collapsed": false
   },
   "outputs": [],
   "source": [
    "from halotools.empirical_models import HodModelFactory\n",
    "from halotools.empirical_models import TrivialPhaseSpace, Zheng07Cens\n",
    "from halotools.empirical_models import NFWPhaseSpace, Zheng07Sats\n",
    "from halotools.sim_manager import CachedHaloCatalog\n",
    "from src.redMagicHOD import RedMagicCens, RedMagicSats, StepFuncCens, StepFuncSats"
   ]
  },
  {
   "cell_type": "code",
   "execution_count": 3,
   "metadata": {
    "collapsed": false
   },
   "outputs": [],
   "source": [
    "rz = 0.0\n",
    "cens_prof_model = TrivialPhaseSpace(redshift = rz)\n",
    "sats_prof_model = NFWPhaseSpace(redshift = rz)\n",
    "model_instance = HodModelFactory(\n",
    "        centrals_occupation = StepFuncCens(redshift = rz),\n",
    "        #centrals_occupation = Zheng07Cens(redshift = rz),\n",
    "        centrals_profile = cens_prof_model,\n",
    "        satellites_occupation = StepFuncSats(redshift = rz),\n",
    "        #satellites_occupation = Zheng07Sats(redshift = rz),\n",
    "        satellites_profile = sats_prof_model)"
   ]
  },
  {
   "cell_type": "code",
   "execution_count": 4,
   "metadata": {
    "collapsed": true
   },
   "outputs": [],
   "source": [
    "#model_instance.param_dict['f_c'] = 0.5"
   ]
  },
  {
   "cell_type": "code",
   "execution_count": 5,
   "metadata": {
    "collapsed": false
   },
   "outputs": [],
   "source": [
    "simname = 'chinchilla'\n",
    "rz = 0.0\n",
    "version_name = 'Lb400-2048'\n",
    "size = (400.0)**3\n",
    "halocat= CachedHaloCatalog(simname = simname, halo_finder = 'rockstar',version_name = version_name, redshift = rz)"
   ]
  },
  {
   "cell_type": "code",
   "execution_count": 9,
   "metadata": {
    "collapsed": false
   },
   "outputs": [],
   "source": [
    "idx = halocat.halo_table['halo_mvir'] > 1e15/0.7"
   ]
  },
  {
   "cell_type": "code",
   "execution_count": 10,
   "metadata": {
    "collapsed": false
   },
   "outputs": [
    {
     "ename": "AttributeError",
     "evalue": "can't set attribute",
     "output_type": "error",
     "traceback": [
      "\u001b[1;31m---------------------------------------------------------------------------\u001b[0m",
      "\u001b[1;31mAttributeError\u001b[0m                            Traceback (most recent call last)",
      "\u001b[1;32m<ipython-input-10-7db3a1c13b30>\u001b[0m in \u001b[0;36m<module>\u001b[1;34m()\u001b[0m\n\u001b[1;32m----> 1\u001b[1;33m \u001b[0mhalocat\u001b[0m\u001b[1;33m.\u001b[0m\u001b[0mhalo_table\u001b[0m \u001b[1;33m=\u001b[0m \u001b[0mhalocat\u001b[0m\u001b[1;33m.\u001b[0m\u001b[0mhalo_table\u001b[0m\u001b[1;33m[\u001b[0m\u001b[0midx\u001b[0m\u001b[1;33m]\u001b[0m\u001b[1;33m\u001b[0m\u001b[0m\n\u001b[0m",
      "\u001b[1;31mAttributeError\u001b[0m: can't set attribute"
     ]
    }
   ],
   "source": [
    "halocat.halo_table = halocat.halo_table[idx]"
   ]
  },
  {
   "cell_type": "code",
   "execution_count": 8,
   "metadata": {
    "collapsed": false
   },
   "outputs": [
    {
     "name": "stdout",
     "output_type": "stream",
     "text": [
      "2.05e+15\n"
     ]
    }
   ],
   "source": [
    "print '%.2e'%(Out[6]*0.7)"
   ]
  },
  {
   "cell_type": "code",
   "execution_count": 20,
   "metadata": {
    "collapsed": false
   },
   "outputs": [
    {
     "name": "stdout",
     "output_type": "stream",
     "text": [
      "['halo_upid', 'halo_y', 'halo_x', 'halo_z', 'halo_rvir', 'halo_id', 'halo_vx', 'halo_vy', 'halo_vz', 'halo_rs', 'halo_mvir', 'halo_nfw_conc', 'halo_hostid', 'halo_mvir_host_halo'] 19637857\n"
     ]
    }
   ],
   "source": [
    "print halocat.halo_table.colnames, len(halocat.halo_table)"
   ]
  },
  {
   "cell_type": "code",
   "execution_count": 21,
   "metadata": {
    "collapsed": false
   },
   "outputs": [
    {
     "name": "stdout",
     "output_type": "stream",
     "text": [
      "250.0\n"
     ]
    }
   ],
   "source": [
    "print halocat.Lbox"
   ]
  },
  {
   "cell_type": "code",
   "execution_count": 22,
   "metadata": {
    "collapsed": false
   },
   "outputs": [],
   "source": [
    "model_instance.populate_mock(halocat, Num_ptcl_requirement = 0)"
   ]
  },
  {
   "cell_type": "code",
   "execution_count": 23,
   "metadata": {
    "collapsed": false
   },
   "outputs": [
    {
     "name": "stdout",
     "output_type": "stream",
     "text": [
      "['halo_upid', 'halo_x', 'halo_y', 'halo_id', 'halo_z', 'halo_vx', 'halo_vy', 'halo_vz', 'halo_rvir', 'halo_mvir', 'conc_NFWmodel', 'halo_num_satellites', 'halo_num_centrals'] 16689516\n"
     ]
    }
   ],
   "source": [
    "print model_instance.mock.halo_table.colnames, len(model_instance.mock.halo_table)"
   ]
  },
  {
   "cell_type": "code",
   "execution_count": 33,
   "metadata": {
    "collapsed": false
   },
   "outputs": [],
   "source": [
    "from halotools.mock_observables import return_xyz_formatted_array\n",
    "from halotools.utils import group_member_generator\n",
    "\n",
    "halos = model_instance.mock.halo_table\n",
    "\n",
    "#halos = halos[halos['halo_mvir']> 7e12]\n",
    "\n",
    "halos.sort(['halo_id', 'halo_upid'])\n",
    "grouping_key = 'halo_id'\n",
    "requested_columns = ['halo_num_centrals', 'halo_num_satellites', 'halo_mvir']\n",
    "group_gen = group_member_generator(halos, grouping_key, requested_columns)\n",
    "\n",
    "ncen = []\n",
    "nsat = []\n",
    "mass = []\n",
    "\n",
    "for first, last, member_props in group_gen:\n",
    "\n",
    "    ncen.append(member_props[0][0])\n",
    "    nsat.append(member_props[1][0])\n",
    "    mass.append(member_props[2][0]) \n",
    "    \n",
    "ncen = np.array(ncen)\n",
    "nsat = np.array(nsat)\n",
    "mass = np.array(mass)"
   ]
  },
  {
   "cell_type": "code",
   "execution_count": 34,
   "metadata": {
    "collapsed": true
   },
   "outputs": [],
   "source": [
    "from halotools.mock_observables import mean_y_vs_x\n",
    "xmin, xmax = 1e11, 1e16\n",
    "ymin, ymax = 0, 70\n",
    "halo_mass = np.logspace(np.log10(xmin),np.log10(xmax),100) #bad name, actually mass bins. \n",
    "\n",
    "binned_logmass, ncen_hat, ncen_err= mean_y_vs_x(mass, ncen, bins = halo_mass, error_estimator = 'variance')\n",
    "binned_logmass, nsat_hat, nsat_err= mean_y_vs_x(mass, nsat, bins = halo_mass, error_estimator = 'variance')\n",
    "\n",
    "nhalo_binned, be = np.histogram(mass, halo_mass)"
   ]
  },
  {
   "cell_type": "code",
   "execution_count": 35,
   "metadata": {
    "collapsed": true
   },
   "outputs": [],
   "source": [
    "mean_ncen = model_instance.mean_occupation_centrals(prim_haloprop = halo_mass)\n",
    "mean_nsat = model_instance.mean_occupation_satellites(prim_haloprop = halo_mass)"
   ]
  },
  {
   "cell_type": "raw",
   "metadata": {
    "collapsed": true
   },
   "source": [
    "np.savetxt('/u/ki/swmclau2/des/HODOutput/numDensities/%s_%s_%.1f_mass.npy'%(simname,version_name, rz), mass)\n",
    "np.savetxt('/u/ki/swmclau2/des/HODOutput/numDensities/%s_%s_%.1f_halo_weight.npy'%(simname,version_name, rz),np.ones(mass.shape)/size)\n",
    "np.savetxt('/u/ki/swmclau2/des/HODOutput/numDensities/%s_%s_%.1f_cen_weight.npy'%(simname,version_name, rz),ncen/size)\n",
    "np.savetxt('/u/ki/swmclau2/des/HODOutput/numDensities/%s_%s_%.1f_sat_weight.npy'%(simname,version_name, rz),nsat/size)"
   ]
  },
  {
   "cell_type": "code",
   "execution_count": 37,
   "metadata": {
    "collapsed": false
   },
   "outputs": [
    {
     "name": "stdout",
     "output_type": "stream",
     "text": [
      "-1.06755283177 0.0\n"
     ]
    }
   ],
   "source": [
    "print sum(ncen/size - np.ones(mass.shape)/size), sum(nsat/size), "
   ]
  },
  {
   "cell_type": "code",
   "execution_count": 41,
   "metadata": {
    "collapsed": false,
    "scrolled": false
   },
   "outputs": [
    {
     "data": {
      "image/png": "[encoded data removed]",
      "text/plain": [
       "<matplotlib.figure.Figure at 0x7f7bc6dc7790>"
      ]
     },
     "metadata": {},
     "output_type": "display_data"
    }
   ],
   "source": [
    "fig = plt.figure(figsize = (11,7.5))\n",
    "\n",
    "plt.subplot(211)\n",
    "plt.title(\"Num Density of Halos Per Halo Mass Bin Per Cubic Mpc\",fontsize = 20)\n",
    "\n",
    "plt.hist(mass, halo_mass, weights = np.ones(mass.shape)/size, color = colors[1])\n",
    "plt.xscale('log')\n",
    "plt.ticklabel_format(style='sci', axis='y',scilimits=(0,0))\n",
    "\n",
    "plt.xlim([xmin,xmax])\n",
    "plt.ylim([0, 3e-4])\n",
    "\n",
    "plt.subplot(212)\n",
    "plt.title(\"Num Density of Galaxies Per Halo Mass Bin Per Cubic Mpc\",fontsize = 20)\n",
    "plt.hist(mass, halo_mass,weights = ncen/size, color = colors[2], label = 'Central')\n",
    "plt.hist(mass, halo_mass,weights = nsat/size, color = colors[3], label = 'Satellite')\n",
    "plt.legend(loc = 'best')\n",
    "\n",
    "plt.xscale('log')\n",
    "plt.ticklabel_format(style='sci', axis='y', scilimits=(0,0))\n",
    "\n",
    "plt.xlim([xmin,xmax])\n",
    "plt.ylim([0, 1e-4])\n",
    "\n",
    "plt.suptitle('%s\\t $z = %.1f$'%(simname, rz), fontsize = 25)\n",
    "\n",
    "plt.show()"
   ]
  },
  {
   "cell_type": "code",
   "execution_count": 50,
   "metadata": {
    "collapsed": true
   },
   "outputs": [],
   "source": [
    "sample_mask = halocat.halo_table['halo_mvir'] > 7e12\n",
    "hid, x, y, z = [halocat.halo_table[c] for c in ['halo_id', 'halo_x','halo_y','halo_z'] ]\n",
    "halo_pos = return_xyz_formatted_array(x,y,z, mask = sample_mask)"
   ]
  },
  {
   "cell_type": "code",
   "execution_count": 51,
   "metadata": {
    "collapsed": false
   },
   "outputs": [],
   "source": [
    "x, y, z = [model_instance.mock.galaxy_table[c] for c in ['x','y','z'] ]\n",
    "gal_pos = return_xyz_formatted_array(x,y,z)"
   ]
  },
  {
   "cell_type": "code",
   "execution_count": 52,
   "metadata": {
    "collapsed": false
   },
   "outputs": [
    {
     "name": "stdout",
     "output_type": "stream",
     "text": [
      "(9549, 3) (9003, 3)\n"
     ]
    }
   ],
   "source": [
    "print halo_pos.shape, gal_pos.shape"
   ]
  },
  {
   "cell_type": "code",
   "execution_count": 53,
   "metadata": {
    "collapsed": true
   },
   "outputs": [],
   "source": [
    "from itertools import izip"
   ]
  },
  {
   "cell_type": "code",
   "execution_count": 69,
   "metadata": {
    "collapsed": false,
    "scrolled": true
   },
   "outputs": [
    {
     "name": "stdout",
     "output_type": "stream",
     "text": [
      "2813689433 [ 10.69779968   9.58687019  13.04829025] [ 10.69779968   9.58687019  13.04829025]\n",
      "2813690469 [ 11.20277023  10.68274021  13.42407036] [ 11.20277023  10.68274021  13.42407036]\n",
      "2813690957 [ 12.32612991  13.03030968  10.97136974] [ 12.32612991  13.03030968  10.97136974]\n",
      "2813690958 [ 12.29883003  13.05233002  10.99279022] [ 11.15911007  15.63300991  11.55224991]\n",
      "2813691844 [ 11.15911007  15.63300991  11.55224991] [ 7.3284502   9.91551018  5.0735302 ]\n",
      "2813693170 [ 7.3284502   9.91551018  5.0735302 ] [  8.9272604   11.86221027   5.27138996]\n",
      "2813693645 [  8.9272604   11.86221027   5.27138996] [  8.44285011  10.63560009   4.79407978]\n",
      "2813693676 [  8.44285011  10.63560009   4.79407978] [ 25.91947937  27.74669075   7.45727015]\n",
      "2813694467 [ 25.91947937  27.74669075   7.45727015] [ 12.03180027  13.73521996  19.08280945]\n",
      "2813694864 [ 12.03180027  13.73521996  19.08280945] [ 22.25614929  28.70134926   8.40767956]\n",
      "2813695331 [ 22.25614929  28.70134926   8.40767956] [  0.50501001   0.63859999  14.85564995]\n",
      "2813695830 [  0.50501001   0.63859999  14.85564995] [  0.91518003   0.28996     16.17589951]\n",
      "2813695974 [  0.91518003   0.28996     16.17589951] [ 24.97232056  25.9520607   16.75645065]\n",
      "2813696318 [ 24.97232056  25.9520607   16.75645065] [ 24.32430077  26.26730919  11.22679043]\n",
      "2813696312 [ 24.99994087  25.77191925  16.85205078] [ 14.01299953  18.39859009   8.25306988]\n",
      "2813696537 [ 24.32430077  26.26730919  11.22679043] [  8.34817982  26.06016922   8.64622974]\n",
      "2813697039 [ 14.01299953  18.39859009   8.25306988] [ 17.2888298   20.46454048   8.33883953]\n",
      "2813697142 [  8.34817982  26.06016922   8.64622974] [ 28.65871048   5.74250984   8.00446987]\n",
      "2813698026 [ 17.2888298   20.46454048   8.33883953] [ 18.83789062  32.61388016  20.45603943]\n",
      "2813698494 [ 28.65871048   5.74250984   8.00446987] [  6.38831997   1.29350996  14.25813961]\n",
      "2813698652 [ 18.83789062  32.61388016  20.45603943] [  7.78951979   3.79409003  17.73932076]\n",
      "2813698747 [  6.38831997   1.29350996  14.25813961] [  1.02662003  19.90020943  33.97294998]\n",
      "2813699008 [  7.78951979   3.79409003  17.73932076] [  8.05097961  27.57323074  25.76396942]\n",
      "2813743400 [  1.02662003  19.90020943  33.97294998] [  1.21843004   5.85325003  55.25360107]\n",
      "2813743931 [  8.05097961  27.57323074  25.76396942] [ 20.05636024  32.66402817  23.62327957]\n",
      "2813744306 [  1.21843004   5.85325003  55.25360107] [  3.67178988  28.59976006  65.42624664]\n",
      "2813744691 [ 20.05636024  32.66402817  23.62327957] [  4.32609987  31.20343971  29.01602936]\n",
      "2813744974 [  3.67178988  28.59976006  65.42624664] [ 11.59902     19.51894951  27.98386002]\n",
      "2813745222 [  4.32609987  31.20343971  29.01602936] [ 21.35700035   7.64051008  33.90554047]\n",
      "2813745700 [ 11.59902     19.51894951  27.98386002] [ 18.88305092  21.10589981  64.03782654]\n",
      "2813745893 [ 21.35700035   7.64051008  33.90554047] [ 22.31015968  23.9274807   67.16816711]\n",
      "2813746318 [ 18.88305092  21.10589981  64.03782654] [  7.64783001  22.32585907  29.18852043]\n",
      "2813746449 [ 22.31015968  23.9274807   67.16816711] [  8.50794983  28.45441055  67.50022125]\n",
      "2813746520 [  7.64783001  22.32585907  29.18852043] [  7.8674202   27.35523987  80.79589844]\n",
      "2813746939 [  8.50794983  28.45441055  67.50022125] [   4.30394983    3.18445992  112.30812073]\n",
      "2813808655 [  7.8674202   27.35523987  80.79589844] [   5.36576986   28.31805992  117.69293213]\n",
      "2813809138 [   4.30394983    3.18445992  112.30812073] [ 26.97277069  23.39281082  72.58640289]\n",
      "2813809654 [   5.36576986   28.31805992  117.69293213] [ 27.44672966   0.21142     98.12323761]\n",
      "2813809907 [ 26.97277069  23.39281082  72.58640289] [ 27.20742989  32.18304062  83.18274689]\n",
      "2813810104 [ 27.44672966   0.21142     98.12323761] [  3.85374999  25.00860977  84.618927  ]\n",
      "2813810349 [ 27.20742989  32.18304062  83.18274689] [ 27.38297081   7.19188023  96.57953644]\n",
      "2813810511 [  3.85374999  25.00860977  84.618927  ] [  11.38821983   27.99179077  109.13374329]\n",
      "2813810828 [ 27.38297081   7.19188023  96.57953644] [   0.73681998   14.67943954  131.7727356 ]\n",
      "2813811321 [  11.38821983   27.99179077  109.13374329] [   0.51893002   13.38951969  133.29351807]\n",
      "2813874372 [   0.73681998   14.67943954  131.7727356 ] [   1.19071996   15.78273964  130.68144226]\n",
      "2813874595 [   0.51893002   13.38951969  133.29351807] [  18.6178093    17.07443047  131.54443359]\n",
      "2813876872 [   1.19071996   15.78273964  130.68144226] [  18.23933029   19.76872063  133.39907837]\n",
      "2813876063 [   0.91352999   16.85927963  130.40338135] [  19.10852051   18.6212101   132.9928894 ]\n",
      "2813876039 [   1.28915      16.20521927  130.21246338] [  18.50577927   19.2295208   132.75794983]\n",
      "2813877284 [  18.6178093    17.07443047  131.54443359] [  5.59666014e+00   8.02600011e-02   1.32225861e+02]\n",
      "2813877920 [  18.23933029   19.76872063  133.39907837] [   4.24884987    2.03962994  132.06451416]\n",
      "2813878328 [  19.10852051   18.6212101   132.9928894 ] [   2.94909       4.8680501   130.93991089]\n",
      "2813878436 [  18.50577927   19.2295208   132.75794983] [  19.20899963   18.7259407   143.81625366]\n",
      "2813879011 [  5.59666014e+00   8.02600011e-02   1.32225861e+02] [  19.63257027    4.0316      131.51473999]\n",
      "2813879648 [   4.24884987    2.03962994  132.06451416] [  26.75548935   21.94417     140.44129944]\n",
      "2813879905 [   2.94909       4.8680501   130.93991089] [  10.72410965   20.91926956  129.69116211]\n",
      "2813880087 [  19.20899963   18.7259407   143.81625366] [  11.18642998   17.80970001  129.92492676]\n",
      "2813880288 [  19.63257027    4.0316      131.51473999] [  17.57638931   20.15497971  140.35690308]\n",
      "2813880514 [  26.75548935   21.94417     140.44129944] [  16.43890953   19.24501991  136.51953125]\n",
      "2813880766 [  10.72410965   20.91926956  129.69116211] [  15.88473034   22.92053032  131.16352844]\n",
      "2813880933 [  11.18642998   17.80970001  129.92492676] [  24.08182907   16.17564011  139.19163513]\n",
      "2813881110 [  17.57638931   20.15497971  140.35690308] [   3.30203009   19.14557076  128.4017334 ]\n",
      "2813881269 [  16.43890953   19.24501991  136.51953125] [   1.53892004   13.0914402   128.26373291]\n",
      "2813881474 [  15.88473034   22.92053032  131.16352844] [  23.66864967   20.42766953  165.44952393]\n",
      "2813881592 [  24.08182907   16.17564011  139.19163513] [  17.45421028   29.44631958  188.11898804]\n",
      "2813881718 [   3.30203009   19.14557076  128.4017334 ] [  16.65600014   32.88011932  185.56929016]\n",
      "2813881874 [   1.53892004   13.0914402   128.26373291] [   0.69123      17.81690979  169.70759583]\n",
      "2813922534 [  23.66864967   20.42766953  165.44952393] [  26.09730911   22.27259064  163.33979797]\n",
      "2813922920 [  17.45421028   29.44631958  188.11898804] [   1.82651997   26.05651093  174.41604614]\n",
      "2813923325 [  16.65600014   32.88011932  185.56929016] [  20.71212006   26.73711967  153.01423645]\n",
      "2813923533 [   0.69123      17.81690979  169.70759583] [  24.73889923   12.51171017  175.29257202]\n",
      "2813923999 [  26.09730911   22.27259064  163.33979797] [  18.6847496    22.37424088  169.78042603]\n",
      "2813924264 [   1.82651997   26.05651093  174.41604614] [  20.22765923   15.91821957  160.44345093]\n",
      "2813924416 [  20.71212006   26.73711967  153.01423645] [  19.29652977   16.79018021  165.06369019]\n",
      "2813924542 [  24.73889923   12.51171017  175.29257202] [  4.36809987e-01   2.33200006e-02   1.83487091e+02]\n",
      "2813924648 [  18.6847496    22.37424088  169.78042603] [  11.95849991    2.02042007  148.71888733]\n",
      "2813924789 [  20.22765923   15.91821957  160.44345093] [  14.24429035    4.65411997  206.67379761]\n",
      "2813924947 [  19.29652977   16.79018021  165.06369019] [  25.22043037   30.6876297   200.55838013]\n",
      "2813925025 [  4.36809987e-01   2.33200006e-02   1.83487091e+02] [  25.44732094   29.46499062  199.94078064]\n",
      "2813925317 [  11.95849991    2.02042007  148.71888733] [  20.38184929   31.65770912  197.30278015]\n",
      "2813974627 [  14.24429035    4.65411997  206.67379761] [  19.93094063   31.97724915  198.6178894 ]\n",
      "2813976178 [  25.22043037   30.6876297   200.55838013] [  13.20674038   27.47583961  193.82937622]\n",
      "2813976618 [  25.44732094   29.46499062  199.94078064] [  14.03736019   28.42103004  194.41294861]\n",
      "2813977211 [  20.38184929   31.65770912  197.30278015] [  13.5537796     2.34603     199.46920776]\n",
      "2813977786 [  19.93094063   31.97724915  198.6178894 ] [  14.56715012    2.98381996  200.75170898]\n",
      "2813978295 [  13.20674038   27.47583961  193.82937622] [  11.57917976   32.76161957  192.1930542 ]\n",
      "2813978665 [  14.03736019   28.42103004  194.41294861] [  19.69798088    9.06101036  208.1953125 ]\n",
      "2813978780 [  13.5537796     2.34603     199.46920776] [  24.25188065    6.91645002  203.26489258]\n",
      "2813979093 [  14.56715012    2.98381996  200.75170898] [  29.45034027   12.00456047  208.43360901]\n",
      "2813979411 [  11.57917976   32.76161957  192.1930542 ] [  23.93828011   32.52386093  196.40730286]\n",
      "2813979676 [  19.69798088    9.06101036  208.1953125 ] [  29.34098053   32.62836075  189.98770142]\n",
      "2813979864 [  24.25188065    6.91645002  203.26489258] [  21.99918938   31.85854912  197.48376465]\n",
      "2813980149 [  29.45034027   12.00456047  208.43360901] [   9.72686958    6.41022015  206.75617981]\n",
      "2813980386 [  23.93828011   32.52386093  196.40730286] [  23.75675011   26.6546402   205.65296936]\n",
      "2813980530 [  29.34098053   32.62836075  189.98770142] [   5.7361598    4.1542902  203.2991333]\n",
      "2813980768 [  21.99918938   31.85854912  197.48376465] [   3.76661992    3.07773995  200.73703003]\n",
      "2813980885 [   9.72686958    6.41022015  206.75617981] [  27.09783936   30.01499939  201.79574585]\n",
      "2813980981 [  23.75675011   26.6546402   205.65296936] [   0.98838001    5.23225021  201.01860046]\n",
      "2813981173 [   5.7361598    4.1542902  203.2991333] [  21.53203964   10.85945034  223.43466187]\n",
      "2813981237 [   3.76661992    3.07773995  200.73703003] [  21.99513054   12.02390003  224.43710327]\n",
      "2813981728 [  27.09783936   30.01499939  201.79574585] [  20.80805969   15.12047958  222.77990723]\n"
     ]
    }
   ],
   "source": [
    "i = 0\n",
    "for uid, hp, gp in izip(hid[sample_mask], halo_pos, gal_pos):\n",
    "    print uid, hp, gp\n",
    "    i+=1\n",
    "    if i > 100:\n",
    "        break"
   ]
  },
  {
   "cell_type": "code",
   "execution_count": 71,
   "metadata": {
    "collapsed": false
   },
   "outputs": [
    {
     "name": "stdout",
     "output_type": "stream",
     "text": [
      "halo_upid \t-1 \t2813690957\n",
      "halo_y \t13.0303 \t13.0523\n",
      "halo_x \t12.3261 \t12.2988\n",
      "halo_z \t10.9714 \t10.9928\n",
      "halo_rvir \t0.883735 \t0.460062\n",
      "halo_id \t2813690957 \t2813690958\n",
      "halo_vx \t-372.06 \t-41.96\n",
      "halo_vy \t184.35 \t-52.42\n",
      "halo_vz \t-13.79 \t-265.07\n",
      "halo_rs \t0.188352 \t0.123492\n",
      "halo_mvir \t7.961e+13 \t1.123e+13\n",
      "halo_nfw_conc \t4.69193 \t3.72544\n",
      "halo_hostid \t2813690957 \t2813690957\n",
      "halo_mvir_host_halo \t7.961e+13 \t7.961e+13\n"
     ]
    }
   ],
   "source": [
    "h1 = halocat.halo_table['halo_id'] ==2813690957\n",
    "h2 = halocat.halo_table['halo_id'] ==2813690958\n",
    "\n",
    "for prop in halocat.halo_table.colnames:\n",
    "    print prop, '\\t',\n",
    "    print halocat.halo_table[prop][h1][0],'\\t',\n",
    "    print halocat.halo_table[prop][h2][0]"
   ]
  },
  {
   "cell_type": "code",
   "execution_count": null,
   "metadata": {
    "collapsed": true
   },
   "outputs": [],
   "source": []
  }
 ],
 "metadata": {
  "kernelspec": {
   "display_name": "Python 2",
   "language": "python",
   "name": "python2"
  },
  "language_info": {
   "codemirror_mode": {
    "name": "ipython",
    "version": 2
   },
   "file_extension": ".py",
   "mimetype": "text/x-python",
   "name": "python",
   "nbconvert_exporter": "python",
   "pygments_lexer": "ipython2",
   "version": "2.7.11"
  }
 },
 "nbformat": 4,
 "nbformat_minor": 0
}
