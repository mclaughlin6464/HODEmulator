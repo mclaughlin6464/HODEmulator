{
 "cells": [
  {
   "cell_type": "markdown",
   "metadata": {},
   "source": [
    "Calculating cross correlations for all Emu sims I have. "
   ]
  },
  {
   "cell_type": "code",
   "execution_count": 1,
   "metadata": {
    "collapsed": true
   },
   "outputs": [],
   "source": [
    "import numpy as np\n",
    "import matplotlib\n",
    "%matplotlib inline\n",
    "from matplotlib import pyplot as plt\n",
    "import seaborn as sns\n",
    "sns.set()"
   ]
  },
  {
   "cell_type": "code",
   "execution_count": 2,
   "metadata": {
    "collapsed": true
   },
   "outputs": [],
   "source": [
    "from halotools.empirical_models import HodModelFactory\n",
    "from halotools.empirical_models import TrivialPhaseSpace, Zheng07Cens\n",
    "from halotools.empirical_models import NFWPhaseSpace, Zheng07Sats\n",
    "from halotools.sim_manager import CachedHaloCatalog"
   ]
  },
  {
   "cell_type": "code",
   "execution_count": 3,
   "metadata": {
    "collapsed": true
   },
   "outputs": [],
   "source": [
    "class RedMagicCens(Zheng07Cens):\n",
    "    \"\"\"Slight tweak of the Zheng model to add a new parameter, f_c\n",
    "    \"\"\"\n",
    "    #TODO what meaning does Luminosity threshold hold here?\n",
    "    def __init__(self,**kwargs):\n",
    "        \n",
    "        upper_occupation_bound = 1.0\n",
    "        super(RedMagicCens,self).__init__(**kwargs)\n",
    "\n",
    "        if 'f_c' not in self.param_dict:\n",
    "            self.param_dict['f_c'] = 0.19 #add in best fit of new param.\n",
    "        \n",
    "    def mean_occupation(self, **kwargs):\n",
    "        \"See Zheng07 for details\"\n",
    "        return self.param_dict['f_c']*super(RedMagicCens,self).mean_occupation(**kwargs)\n",
    "    \n",
    "class RedMagicSats(Zheng07Sats):\n",
    "    \"Slight tweak of Zheng model to add new parameter, f_c\"\n",
    "    \n",
    "    def __init__(self, **kwargs):\n",
    "        \n",
    "        upper_occupation_bound = float(\"inf\")\n",
    "        super(RedMagicSats,self).__init__(**kwargs)\n",
    "        \n",
    "        #TODO not sure if this will work for the whole model; will need to test\n",
    "        #may need to 'modulate'\n",
    "        #if 'f_c' not in self.param_dict:\n",
    "        #    self.param_dict['f_c'] = 0.19 #add in best fit of new param.\n",
    "        \n",
    "    def mean_occupation(self, **kwargs):\n",
    "        \"See Zheng07 for details\"\n",
    "        f_c = 1\n",
    "        if 'f_c' in self.param_dict:\n",
    "            f_c = self.param_dict['f_c']\n",
    "        \n",
    "        return super(RedMagicSats,self).mean_occupation(**kwargs)/f_c"
   ]
  },
  {
   "cell_type": "code",
   "execution_count": 4,
   "metadata": {
    "collapsed": false
   },
   "outputs": [
    {
     "name": "stdout",
     "output_type": "stream",
     "text": [
      "1405119\n",
      "4205502\n",
      "8401414\n",
      "8400370\n",
      "8399650\n",
      "9799696\n",
      "9800916\n",
      "9802571\n",
      "9806644\n",
      "9943398\n"
     ]
    }
   ],
   "source": [
    "from halotools.sim_manager import CachedHaloCatalog\n",
    "from halotools.empirical_models import PrebuiltHodModelFactory\n",
    "scale_factors = [0.25,0.333,0.5,  0.540541, 0.588235, 0.645161, 0.714286, 0.8, 0.909091, 1.0 ]\n",
    "#scale_factors = [1.0]\n",
    "halocats = {}\n",
    "models = {}\n",
    "for sf in scale_factors:\n",
    "    rz = 1.0/sf-1\n",
    "    halocats[sf] = CachedHaloCatalog(simname = 'emu', halo_finder = 'rockstar',version_name = 'most_recent',redshift = rz)\n",
    "    #halocats[sf] = CachedHaloCatalog(simname = 'multidark', halo_finder = 'rockstar',redshift = rz)\n",
    "\n",
    "    print len(halocats[sf].halo_table)\n",
    "    \n",
    "    models[sf] = HodModelFactory(\n",
    "        centrals_occupation = RedMagicCens(redshift = rz),\n",
    "        centrals_profile = TrivialPhaseSpace(redshift = rz),\n",
    "        satellites_occupation = RedMagicSats(redshift = rz),\n",
    "        satellites_profile = NFWPhaseSpace(redshift = rz))\n",
    "    \n",
    "    \n",
    "    #models[sf] = PrebuiltHodModelFactory('Zheng07', redshift = rz)"
   ]
  },
  {
   "cell_type": "code",
   "execution_count": 12,
   "metadata": {
    "collapsed": false,
    "scrolled": false
   },
   "outputs": [
    {
     "name": "stdout",
     "output_type": "stream",
     "text": [
      "3.0 \t1073341\n",
      "2.0 \t2830023\n",
      "1.0 \t4888611\n",
      "0.85 \t4762121\n",
      "0.7 \t4639181\n",
      "0.55 \t5270345\n",
      "0.4 \t5107314\n",
      "0.25 \t4952729\n",
      "0.1 \t4791077\n",
      "0.0 \t4737811\n"
     ]
    }
   ],
   "source": [
    "pmass = 3.9876e10\n",
    "npart = 30\n",
    "for sf in scale_factors:\n",
    "    made_cut = halocats[sf].halo_table['halo_mvir']<pmass*npart\n",
    "    print round(1.0/sf-1, 2),'\\t', len(halocats[sf].halo_table['halo_mvir'][made_cut])"
   ]
  },
  {
   "cell_type": "code",
   "execution_count": 13,
   "metadata": {
    "collapsed": false
   },
   "outputs": [
    {
     "name": "stdout",
     "output_type": "stream",
     "text": [
      "3.0 \t58\n",
      "2.0 \t111\n",
      "1.0 \t2093\n",
      "0.85 \t1824\n",
      "0.7 \t1531\n",
      "0.55 \t1621\n",
      "0.4 \t1458\n",
      "0.25 \t1344\n",
      "0.1 \t1402\n",
      "0.0 \t5205587\n"
     ]
    }
   ],
   "source": [
    "for sf in scale_factors:\n",
    "    models[sf].populate_mock(halocats[sf], Num_ptcl_requirement = npart)\n",
    "    print round(1.0/sf-1, 2), '\\t', len(models[sf].mock.halo_table)"
   ]
  },
  {
   "cell_type": "code",
   "execution_count": null,
   "metadata": {
    "collapsed": false
   },
   "outputs": [
    {
     "name": "stderr",
     "output_type": "stream",
     "text": [
      "/u/ki/swmclau2/.conda/envs/hodemulator/lib/python2.7/site-packages/halotools/mock_observables/clustering_helpers.py:64: UserWarning: \n",
      " `sample1` exceeds `max_sample_size` \n",
      "downsampling `sample1`...\n",
      "  warn(msg)\n"
     ]
    }
   ],
   "source": [
    "from halotools.mock_observables import return_xyz_formatted_array, tpcf, tpcf_one_two_halo_decomp, wp\n",
    "data = {}\n",
    "pi_max = 40\n",
    "rp_bins = np.logspace(-1,1.25,15)\n",
    "rp_bin_centers = (rp_bins[:1] + rp_bins[1:])/2.\n",
    "\n",
    "rbins = np.logspace(-1, 1.25, 15)\n",
    "rbin_centers = (rbins[1:]+rbins[:-1])/2\n",
    "\n",
    "for sf in scale_factors:\n",
    "    x, y, z = [models[sf].mock.galaxy_table[c] for c in ['x','y','z'] ]\n",
    "    pos = return_xyz_formatted_array(x,y,z)\n",
    "\n",
    "    xi_all = tpcf(pos, rbins, period = models[sf].mock.Lbox, num_threads = 4)\n",
    "\n",
    "    halo_hostid = models[sf].mock.galaxy_table['halo_id']\n",
    "\n",
    "    xi_1h, xi_2h = tpcf_one_two_halo_decomp(pos,\n",
    "                    halo_hostid, rbins, \n",
    "                    period = models[sf].mock.Lbox, num_threads = 4,\n",
    "                    max_sample_size = 1e7)\n",
    "    \n",
    "\n",
    "    wp_all = wp(pos, rp_bins, pi_max, period=models[sf].mock.Lbox, num_threads = 4)\n",
    "    \n",
    "    data[sf] = (xi_all, xi_1h, xi_2h, wp_all)"
   ]
  },
  {
   "cell_type": "code",
   "execution_count": null,
   "metadata": {
    "collapsed": true
   },
   "outputs": [],
   "source": [
    "from itertools import cycle\n",
    "colors = cycle(sns.color_palette())\n",
    "fig = plt.figure(figsize = (15, 15))\n",
    "\n",
    "for sf, color in zip(scale_factors, colors):\n",
    "    plt.subplot(211)\n",
    "    rz = 1.0/sf -1 \n",
    "    plt.plot(rbin_centers, data[sf][0],\n",
    "             label='$z = %.2f$'%rz, color=color)\n",
    "    plt.plot(rbin_centers, data[sf][1], ls = '--', color = color)\n",
    "    plt.plot(rbin_centers, data[sf][2], ls = '-.', color = color)\n",
    "\n",
    "    plt.subplot(221)\n",
    "    plt.plot(rp_bin_centers, data[sf][3],\n",
    "             label='$z = %.2f$'%rz,\n",
    "             color= color )\n",
    "    \n",
    "plt.subplot(211)\n",
    "plt.title('Cross Correlations')\n",
    "plt.xlim(xmin = 0.1, xmax = 10)\n",
    "plt.ylim(ymin = 1, ymax = 1e4)\n",
    "plt.loglog()\n",
    "plt.xticks(fontsize=20)\n",
    "plt.yticks(fontsize=20)\n",
    "plt.xlabel(r'$r $  $\\rm{[Mpc]}$', fontsize=25)\n",
    "plt.ylabel(r'$\\xi_{\\rm gg}(r)$', fontsize=25)\n",
    "plt.legend(loc='best', fontsize=20)\n",
    "\n",
    "plt.subplot(221)\n",
    "plt.title('Projected Cross Correlations')\n",
    "plt.xlim(xmin = 0.1, xmax = 10)\n",
    "plt.ylim(ymin = 0.5, ymax = 5e3)\n",
    "plt.loglog()\n",
    "plt.xticks(fontsize=20)\n",
    "plt.yticks(fontsize=20)\n",
    "plt.xlabel(r'$r_{\\rm p} $  $\\rm{[Mpc]}$', fontsize=25)\n",
    "plt.ylabel(r'$w_{\\rm p}(r_{\\rm p})$', fontsize=25)\n",
    "plt.legend(loc='best', fontsize=20)"
   ]
  },
  {
   "cell_type": "code",
   "execution_count": null,
   "metadata": {
    "collapsed": true
   },
   "outputs": [],
   "source": []
  }
 ],
 "metadata": {
  "kernelspec": {
   "display_name": "Python 2",
   "language": "python",
   "name": "python2"
  },
  "language_info": {
   "codemirror_mode": {
    "name": "ipython",
    "version": 2
   },
   "file_extension": ".py",
   "mimetype": "text/x-python",
   "name": "python",
   "nbconvert_exporter": "python",
   "pygments_lexer": "ipython2",
   "version": "2.7.11"
  }
 },
 "nbformat": 4,
 "nbformat_minor": 0
}
