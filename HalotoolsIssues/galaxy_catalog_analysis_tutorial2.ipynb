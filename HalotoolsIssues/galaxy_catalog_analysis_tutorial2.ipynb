{
 "cells": [
  {
   "cell_type": "markdown",
   "metadata": {},
   "source": [
    "# Example 2: Galaxy clustering in 3d"
   ]
  },
  {
   "cell_type": "markdown",
   "metadata": {},
   "source": [
    "In this example, we'll show how to calculate the two-point clustering \n",
    "of a mock galaxy catalog, $\\xi_{\\rm gg}(r).$ \n",
    "We'll also show how to compute cross-correlations between two different \n",
    "galaxy samples, and also the one-halo and two-halo decomposition \n",
    "$\\xi^{\\rm 1h}_{\\rm gg}(r)$ and $\\xi^{\\rm 2h}_{\\rm gg}(r)$. \n"
   ]
  },
  {
   "cell_type": "markdown",
   "metadata": {},
   "source": [
    "## Generate a mock galaxy catalog "
   ]
  },
  {
   "cell_type": "markdown",
   "metadata": {},
   "source": [
    "Let's start out by generating a mock galaxy catalog into an N-body\n",
    "simulation in the usual way. Here we'll assume you have the z=0\n",
    "rockstar halos for the bolshoi simulation, as this is the\n",
    "default halo catalog. \n"
   ]
  },
  {
   "cell_type": "code",
   "execution_count": 1,
   "metadata": {
    "collapsed": true
   },
   "outputs": [],
   "source": [
    "import numpy as np"
   ]
  },
  {
   "cell_type": "code",
   "execution_count": 2,
   "metadata": {
    "collapsed": false
   },
   "outputs": [
    {
     "name": "stderr",
     "output_type": "stream",
     "text": [
      "/usr/local/lib/python2.7/dist-packages/IPython/kernel/__init__.py:13: ShimWarning: The `IPython.kernel` package has been deprecated. You should import from ipykernel or jupyter_client instead.\n",
      "  \"You should import from ipykernel or jupyter_client instead.\", ShimWarning)\n"
     ]
    }
   ],
   "source": [
    "from halotools.empirical_models import PrebuiltHodModelFactory\n",
    "mname = 'leauthaud11'\n",
    "model = PrebuiltHodModelFactory(mname)\n",
    "\n",
    "simname = 'multidark'\n",
    "from halotools.sim_manager import CachedHaloCatalog\n",
    "halocat = CachedHaloCatalog(simname = simname, redshift = 0, halo_finder = 'rockstar')\n",
    "model.populate_mock(halocat)\n"
   ]
  },
  {
   "cell_type": "markdown",
   "metadata": {},
   "source": [
    "Our mock galaxies are stored in the ``galaxy_table`` of ``model.mock``\n",
    "in the form of an Astropy Table.\n"
   ]
  },
  {
   "cell_type": "markdown",
   "metadata": {},
   "source": [
    "## Calculate two-point galaxy clustering $\\xi_{\\rm gg}(r)$"
   ]
  },
  {
   "cell_type": "markdown",
   "metadata": {},
   "source": [
    "The three-dimensional galaxy clustering signal is calculated by \n",
    "the `halotools.mock_observables.tpcf` function from  \n",
    "the *x, y, z* positions of the galaxies stored in the ``galaxy_table``. \n",
    "We can retrieve these arrays as follows:\n"
   ]
  },
  {
   "cell_type": "code",
   "execution_count": 3,
   "metadata": {
    "collapsed": false
   },
   "outputs": [],
   "source": [
    "x = model.mock.galaxy_table['x']\n",
    "y = model.mock.galaxy_table['y']\n",
    "z = model.mock.galaxy_table['z']\n"
   ]
  },
  {
   "cell_type": "code",
   "execution_count": null,
   "metadata": {
    "collapsed": false
   },
   "outputs": [],
   "source": [
    "from halotools.mock_observables import return_xyz_formatted_array\n",
    "\n",
    "#sample_mask = model.mock.galaxy_table['stellar_mass'] > 1e10\n",
    "pos = return_xyz_formatted_array(x, y, z)\n"
   ]
  },
  {
   "cell_type": "markdown",
   "metadata": {},
   "source": [
    "Now we'll use the `pos` as input to the `tpcf` function to calculate the clustering"
   ]
  },
  {
   "cell_type": "code",
   "execution_count": null,
   "metadata": {
    "collapsed": false
   },
   "outputs": [],
   "source": [
    "from halotools.mock_observables import tpcf\n",
    "\n",
    "rbins = np.logspace(-1, 1.25, 15)\n",
    "rbin_centers = (rbins[1:] + rbins[:-1])/2.\n",
    "\n",
    "xi_all = tpcf(pos, rbins, period = model.mock.Lbox, num_threads = 'max',\n",
    "             max_sample_size = 1e7)\n",
    "\n",
    "np.savetxt('%s_%s.npy'%(mname, simname), xi_all)"
   ]
  },
  {
   "cell_type": "markdown",
   "metadata": {},
   "source": [
    "### Decomposition into the 1-halo and 2-halo terms"
   ]
  },
  {
   "cell_type": "markdown",
   "metadata": {},
   "source": [
    "The ``tpcf_one_two_halo_decomp`` function calculates the two-point\n",
    "correlation function, decomposed into contributions from galaxies in the\n",
    "same halo, and galaxies in different halos. In order to use this\n",
    "function, we must provide an input array of host halo IDs that are equal\n",
    "for galaxies occupying the same halo, and distinct for galaxies in\n",
    "different halos. We'll use the ``halo_hostid`` column for this purpose,\n",
    "using the same ``sample_mask`` as above. \n"
   ]
  },
  {
   "cell_type": "raw",
   "metadata": {
    "collapsed": false
   },
   "source": [
    "from halotools.mock_observables import tpcf_one_two_halo_decomp\n",
    "\n",
    "halo_hostid = model.mock.galaxy_table['halo_upid']\n",
    "\n",
    "xi_1h, xi_2h = tpcf_one_two_halo_decomp(pos,\n",
    "                halo_hostid, rbins, \n",
    "                period = model.mock.Lbox, \n",
    "                num_threads='max',\n",
    "                max_sample_size = 1e7)\n"
   ]
  },
  {
   "cell_type": "markdown",
   "metadata": {},
   "source": [
    "### Plot the results"
   ]
  },
  {
   "cell_type": "code",
   "execution_count": null,
   "metadata": {
    "collapsed": true
   },
   "outputs": [],
   "source": [
    "import numpy as np\n",
    "import matplotlib\n",
    "%matplotlib inline\n",
    "from matplotlib import pyplot as plt\n",
    "import seaborn as sns\n",
    "sns.set()"
   ]
  },
  {
   "cell_type": "code",
   "execution_count": null,
   "metadata": {
    "collapsed": false,
    "scrolled": true
   },
   "outputs": [],
   "source": [
    "rad = [0.1 , 0.11 , 0.121 , 0.1331 , 0.14641 , 0.161051 , 0.1771561 , 0.1948717 , \n",
    "       0.2143589 , 0.2357948 , 0.2593742 , 0.2853117 , 0.3138428 , 0.3452271 , \n",
    "       0.3797498 , 0.4177248 , 0.4594973 , 0.505447 , 0.5559917 , 0.6115909 , \n",
    "       0.67275 , 0.740025 , 0.8140275 , 0.8954302 , 0.9849733 , 1.083471 , \n",
    "       1.191818 , 1.310999 , 1.442099 , 1.586309 , 1.74494 , 1.919434 , \n",
    "       2.111378 , 2.322515 , 2.554767 , 2.810244 , 3.091268 , 3.400395 , 3.740434 , \n",
    "       4.114478 , 4.525926 , 4.978518 , 5.47637 , 6.024007 , 6.626408 , 7.289048 , \n",
    "       8.017953 , 8.819749 , 9.701723 , 10.6719 , 11.73909 , 12.91299 , 14.20429 , \n",
    "       15.62472 , 17.18719 , 18.90591 ]\n",
    "\n",
    "pred = [  1382.368 , 1129.538 , 986.9986 , 851.1019 , 717.0826 , 639.7202 , \n",
    "        527.4941 , 453.8385 , 386.7211 , 340.2145 , 290.112 , 240.7943 , \n",
    "        204.3657 , 172.0202 , 139.8982 , 118.6608 , 96.73241 , 80.00885 , \n",
    "        64.41724 , 52.83373 , 42.93001 , 34.7438 , 28.24397 , 22.74163 , \n",
    "        17.84051 , 14.29683 , 10.96245 , 8.893947 , 6.877745 , 5.641498 , \n",
    "        4.644286 , 3.891761 , 3.281785 , 2.829337 , 2.484321 , 2.127375 , \n",
    "        1.872916 , 1.665345 , 1.50619 , 1.291889 , 1.115184 , 0.9942574 , \n",
    "        0.8640238 , 0.744204 , 0.6320062 , 0.5616723 , 0.4574047 , 0.3874903 , \n",
    "        0.3360941 , 0.2775894 , 0.2239145 , 0.1853233 , 0.1480827 , 0.1201037 , \n",
    "        0.09438282 , 0.0739837]"
   ]
  },
  {
   "cell_type": "code",
   "execution_count": null,
   "metadata": {
    "collapsed": false
   },
   "outputs": [],
   "source": [
    "print xi_all[0]"
   ]
  },
  {
   "cell_type": "code",
   "execution_count": null,
   "metadata": {
    "collapsed": false
   },
   "outputs": [],
   "source": [
    "#from seaborn import plt\n",
    "\n",
    "plt.plot(rbin_centers, xi_all, \n",
    "         label='All galaxies', color='k')\n",
    "\n",
    "plt.plot(rad, pred,  label = 'Prediction')\n",
    "#plt.plot(rbin_centers, xi_1h, \n",
    "#         label = '1-halo term')\n",
    "#plt.plot(rbin_centers, xi_2h, \n",
    "#         label = '2-halo term')\n",
    "\n",
    "plt.xlim(xmin = 0.1, xmax = 10)\n",
    "plt.ylim(ymin = 1, ymax = 1e4)\n",
    "plt.loglog()\n",
    "#plt.xticks(fontsize=20)\n",
    "#plt.yticks(fontsize=20)\n",
    "plt.xlabel(r'$r $  $\\rm{[Mpc]}$', fontsize=25)\n",
    "plt.ylabel(r'$\\xi_{\\rm gg}(r)$', fontsize=25)\n",
    "plt.legend(loc='best', fontsize=20)\n"
   ]
  },
  {
   "cell_type": "markdown",
   "metadata": {},
   "source": []
  },
  {
   "cell_type": "code",
   "execution_count": null,
   "metadata": {
    "collapsed": false
   },
   "outputs": [],
   "source": [
    "print xi_all"
   ]
  },
  {
   "cell_type": "code",
   "execution_count": null,
   "metadata": {
    "collapsed": false
   },
   "outputs": [],
   "source": [
    "for simname in ['multidark', 'bolshoi', 'bolplanck', 'consuelo']:\n",
    "    xi_all = np.loadtxt('%s_%s.npy'%(mname, simname) )\n",
    "    plt.plot(rbin_centers, xi_all, \n",
    "             label=simname)\n",
    "\n",
    "plt.plot(rad, pred,  label = 'Prediction')\n",
    "#plt.plot(rbin_centers, xi_1h, \n",
    "#         label = '1-halo term')\n",
    "#plt.plot(rbin_centers, xi_2h, \n",
    "#         label = '2-halo term')\n",
    "\n",
    "plt.xlim(xmin = 0.1, xmax = 10)\n",
    "plt.ylim(ymin = 1, ymax = 1e4)\n",
    "plt.loglog()\n",
    "#plt.xticks(fontsize=20)\n",
    "#plt.yticks(fontsize=20)\n",
    "plt.xlabel(r'$r $  $\\rm{[Mpc]}$', fontsize=25)\n",
    "plt.ylabel(r'$\\xi_{\\rm gg}(r)$', fontsize=25)\n",
    "plt.legend(loc='best', fontsize=20)"
   ]
  },
  {
   "cell_type": "code",
   "execution_count": null,
   "metadata": {
    "collapsed": true
   },
   "outputs": [],
   "source": []
  }
 ],
 "metadata": {
  "kernelspec": {
   "display_name": "Python 2",
   "language": "python",
   "name": "python2"
  },
  "language_info": {
   "codemirror_mode": {
    "name": "ipython",
    "version": 2
   },
   "file_extension": ".py",
   "mimetype": "text/x-python",
   "name": "python",
   "nbconvert_exporter": "python",
   "pygments_lexer": "ipython2",
   "version": "2.7.6"
  }
 },
 "nbformat": 4,
 "nbformat_minor": 0
}
