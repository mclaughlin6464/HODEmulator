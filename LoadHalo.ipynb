{
 "cells": [
  {
   "cell_type": "markdown",
   "metadata": {},
   "source": [
    "I'm going to try to figure out how to load in a Rockstar catalog into halotools. "
   ]
  },
  {
   "cell_type": "code",
   "execution_count": 1,
   "metadata": {
    "collapsed": true
   },
   "outputs": [],
   "source": [
    "from halotools.sim_manager import RockstarHlistReader"
   ]
  },
  {
   "cell_type": "raw",
   "metadata": {
    "collapsed": false
   },
   "source": [
    "loc = '/nfs/slac/g/ki/ki22/cosmo/beckermr/tinkers_emu/Box000/halos/m200b/'\n",
    "\n",
    "columns_to_keep = {'halo_id': (0,'i8'), 'halo_upid':(1,'i8'), 'halo_x': (8,'f4'), 'halo_y': (9,'f4'), 'halo_z': (10,'f4')\n",
    "                   , 'halo_vx':(11,'f4'), 'halo_vy':(12,'f4'), 'halo_vz':(13,'f4'), 'halo_mvir':(2,'f4'),\n",
    "                  'halo_rvir':(5, 'f4'), 'halo_rs':(6,'f4')} #what else?\n",
    "\n",
    "simname = 'emu'\n",
    "halo_finder = 'rockstar'\n",
    "version_name = 'most_recent'\n",
    "Lbox = 1050.0\n",
    "pmass = 3.9876e10\n",
    "\n",
    "fnames = ['out_%d.list'%i for i in xrange(10)]#redshift = 0\n",
    "scale_a = [0.25,0.333,0.5,  0.540541, 0.588235, 0.645161, 0.714286, 0.8, 0.909091, 1.0 ]"
   ]
  },
  {
   "cell_type": "raw",
   "metadata": {},
   "source": [
    "loc = '/nfs/slac/g/ki/ki20/cosmo/behroozi/MultiDark/hlists/'\n",
    "columns_to_keep = {'halo_id':(1, 'i8'), 'halo_upid':(6, 'i8'), 'halo_x':(17, 'f4'), 'halo_y':(18, 'f4'), \n",
    "                   'halo_z':(19, 'f4'),'halo_vx':(20, 'f4'),'halo_vy':(21, 'f4'),'halo_vz':(22, 'f4'), \n",
    "                   'halo_mvir':(10, 'f4'),'halo_rvir':(11, 'f4'), 'halo_rs':(12,'f4')}\n",
    "\n",
    "simname = 'multidark_highres'\n",
    "halo_finder = 'rockstar'\n",
    "version_name = 'most_recent'\n",
    "Lbox = 1e3\n",
    "pmass = ? #Can't find in catalog"
   ]
  },
  {
   "cell_type": "code",
   "execution_count": null,
   "metadata": {
    "collapsed": true
   },
   "outputs": [],
   "source": [
    "loc = '/nfs/slac/g/ki/ki23/des/BCCSims/Fox/Lb400/halos/rockstar/output/hlists/'\n",
    "columns_to_keep = {'halo_id':(1, 'i8'), 'halo_upid':(6, 'i8'), 'halo_x':(17, 'f4'), 'halo_y':(18, 'f4'), \n",
    "                   'halo_z':(19, 'f4'),'halo_vx':(20, 'f4'),'halo_vy':(21, 'f4'),'halo_vz':(22, 'f4'), \n",
    "                   'halo_mvir':(10, 'f4'),'halo_rvir':(11, 'f4'), 'halo_rs':(12,'f4')}\n",
    "\n",
    "simname = 'fox'\n",
    "halo_finder = 'rockstar'\n",
    "version_name = 'most_recent'\n",
    "Lbox = 400.0\n",
    "pmass = 6.58298e8\n",
    "\n",
    "fnames = ['hlist_%d'%n for n in [46, 57, 73, 76,79, 82, 86, 90, 95, 99 ] ]\n",
    "scale_a = [0.25,0.333,0.5,  0.540541, 0.588235, 0.645161, 0.714286, 0.8, 0.909091, 1.0 ]#not exact, but close. "
   ]
  },
  {
   "cell_type": "code",
   "execution_count": null,
   "metadata": {
    "collapsed": false,
    "scrolled": false
   },
   "outputs": [
    {
     "name": "stdout",
     "output_type": "stream",
     "text": [
      "\n",
      "\n",
      "The information about your ascii file and the metadata about the catalog \n",
      "have been processed and no exceptions were raised. \n",
      "Use the ``read_halocat`` method to read the ascii data, \n",
      "setting the write_to_disk and update_cache_log arguments as you like. \n",
      "See the docstring of the ``read_halocat`` method\n",
      "for details about these options. \n",
      "\n",
      "\n",
      "...Processing ASCII data of file: \n",
      "/nfs/slac/g/ki/ki23/des/BCCSims/Fox/Lb400/halos/rockstar/output/hlists/hlist_46\n",
      " \n",
      "Total number of rows in detected data = 17678219\n",
      "Number of rows in detected header = 51 \n",
      "\n",
      "... working on chunk 0 of 20\n",
      "... working on chunk 1 of 20\n",
      "... working on chunk 2 of 20\n",
      "... working on chunk 3 of 20"
     ]
    }
   ],
   "source": [
    "for fn, a in zip(fnames, scale_a):\n",
    "    z = 1.0/a-1\n",
    "    out = '/u/ki/swmclau2/des/halocats/hlist_%.2f.list.%s.hdf5'%(a, simname)\n",
    "    reader = RockstarHlistReader(loc+fn, columns_to_keep, out, simname, halo_finder, z,\n",
    "                           version_name,Lbox, pmass, overwrite = True)\n",
    "    reader.read_halocat([\"halo_rvir\", \"halo_rs\"], write_to_disk = True, update_cache_log = True)"
   ]
  },
  {
   "cell_type": "code",
   "execution_count": null,
   "metadata": {
    "collapsed": true
   },
   "outputs": [],
   "source": []
  }
 ],
 "metadata": {
  "kernelspec": {
   "display_name": "Python 2",
   "language": "python",
   "name": "python2"
  },
  "language_info": {
   "codemirror_mode": {
    "name": "ipython",
    "version": 2
   },
   "file_extension": ".py",
   "mimetype": "text/x-python",
   "name": "python",
   "nbconvert_exporter": "python",
   "pygments_lexer": "ipython2",
   "version": "2.7.11"
  }
 },
 "nbformat": 4,
 "nbformat_minor": 0
}
