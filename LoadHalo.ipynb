{
 "cells": [
  {
   "cell_type": "markdown",
   "metadata": {},
   "source": [
    "I'm going to try to figure out how to load in a Rockstar catalog into halotools. "
   ]
  },
  {
   "cell_type": "code",
   "execution_count": 14,
   "metadata": {
    "collapsed": false
   },
   "outputs": [],
   "source": [
    "loc = '/nfs/slac/g/ki/ki22/cosmo/beckermr/tinkers_emu/Box000/halos/m200b/'\n",
    "fname = 'out_9.list'#redshift = 0\n",
    "from halotools.sim_manager import RockstarHlistReader\n",
    "\n",
    "columns_to_keep = {'halo_id': (0,'i8'), 'halo_upid':(1,'i8'), 'halo_x': (8,'f4'), 'halo_y': (9,'f4'), 'halo_z': (10,'f4')\n",
    "                   , 'halo_vx':(11,'f4'), 'halo_vy':(12,'f4'), 'halo_vz':(13,'f4'), 'halo_m200b':(3,'f4')} #what else?\n",
    "\n",
    "simname = 'emu'\n",
    "halo_finder = 'rockstar'\n",
    "version_name = '0'\n",
    "redshift = 0.0\n",
    "Lbox = 1050.0\n",
    "pmass = 3.9876e10\n",
    "\n",
    "output_fname = '/u/ki/swmclau2/des/halocats/hlist_1.00.list.emu.hdf5'"
   ]
  },
  {
   "cell_type": "code",
   "execution_count": 15,
   "metadata": {
    "collapsed": false
   },
   "outputs": [
    {
     "name": "stdout",
     "output_type": "stream",
     "text": [
      "\n",
      "\n",
      "The information about your ascii file and the metadata about the catalog \n",
      "have been processed and no exceptions were raised. \n",
      "Use the ``read_halocat`` method to read the ascii data, \n",
      "setting the write_to_disk and update_cache_log arguments as you like. \n",
      "See the docstring of the ``read_halocat`` method\n",
      "for details about these options. \n",
      "\n"
     ]
    }
   ],
   "source": [
    "reader = RockstarHlistReader(loc+fname, columns_to_keep, output_fname, simname, halo_finder, redshift,\n",
    "                           version_name,Lbox, pmass)"
   ]
  },
  {
   "cell_type": "code",
   "execution_count": 16,
   "metadata": {
    "collapsed": false
   },
   "outputs": [
    {
     "name": "stdout",
     "output_type": "stream",
     "text": [
      "\n",
      "...Processing ASCII data of file: \n",
      "/nfs/slac/g/ki/ki22/cosmo/beckermr/tinkers_emu/Box000/halos/m200b/out_9.list\n",
      " \n",
      "Total number of rows in detected data = 10055159\n",
      "Number of rows in detected header = 17 \n",
      "\n",
      "... working on chunk 0 of 7\n",
      "... working on chunk 1 of 7\n",
      "... working on chunk 2 of 7\n",
      "... working on chunk 3 of 7\n",
      "... working on chunk 4 of 7\n",
      "... working on chunk 5 of 7\n",
      "... working on chunk 6 of 7\n",
      "Total runtime to read in ASCII = 1.8 minutes\n",
      "\n",
      "\u0007\n"
     ]
    }
   ],
   "source": [
    "reader.read_halocat([], write_to_disk = True, update_cache_log = True)"
   ]
  },
  {
   "cell_type": "code",
   "execution_count": 17,
   "metadata": {
    "collapsed": true
   },
   "outputs": [],
   "source": [
    "from halotools.sim_manager import CachedHaloCatalog\n",
    "halocat = CachedHaloCatalog(simname = simname, halo_finder = halo_finder, version_name = version_name, redshift = redshift)"
   ]
  },
  {
   "cell_type": "code",
   "execution_count": null,
   "metadata": {
    "collapsed": true
   },
   "outputs": [],
   "source": []
  }
 ],
 "metadata": {
  "kernelspec": {
   "display_name": "Python 2",
   "language": "python",
   "name": "python2"
  },
  "language_info": {
   "codemirror_mode": {
    "name": "ipython",
    "version": 2
   },
   "file_extension": ".py",
   "mimetype": "text/x-python",
   "name": "python",
   "nbconvert_exporter": "python",
   "pygments_lexer": "ipython2",
   "version": "2.7.11"
  }
 },
 "nbformat": 4,
 "nbformat_minor": 0
}
